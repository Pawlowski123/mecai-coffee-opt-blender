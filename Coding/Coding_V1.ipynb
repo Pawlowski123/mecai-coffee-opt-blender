{
 "cells": [
  {
   "cell_type": "code",
   "execution_count": 27,
   "metadata": {},
   "outputs": [],
   "source": [
    "import pandas as pd\n",
    "from pandas_profiling import ProfileReport\n",
    "import os"
   ]
  },
  {
   "cell_type": "code",
   "execution_count": null,
   "metadata": {},
   "outputs": [],
   "source": [
    "os.chdir('..')\n",
    "os.chdir('Datasets/')\n",
    "os.getcwd()"
   ]
  },
  {
   "cell_type": "code",
   "execution_count": 3,
   "metadata": {},
   "outputs": [],
   "source": [
    "#ProfileReport(df_raw, title = 'Raw Profiling')"
   ]
  },
  {
   "cell_type": "code",
   "execution_count": 19,
   "metadata": {},
   "outputs": [
    {
     "output_type": "execute_result",
     "data": {
      "text/plain": [
       "        ID Country.of.Origin                  Lot.Number       Altitude  \\\n",
       "0        1          Ethiopia                         NaN      1950-2200   \n",
       "1        2          Ethiopia                         NaN      1950-2200   \n",
       "2        3         Guatemala                         NaN  1600 - 1800 m   \n",
       "3        4          Ethiopia                         NaN      1800-2200   \n",
       "4        5          Ethiopia                         NaN      1950-2200   \n",
       "...    ...               ...                         ...            ...   \n",
       "1314  1307            Mexico                         NaN            900   \n",
       "1315  1308             Haiti                         NaN          ~350m   \n",
       "1316  1309         Nicaragua  017-053-0211/ 017-053-0212           1100   \n",
       "1317  1310         Guatemala                         NaN           4650   \n",
       "1318  1312          Honduras                         103           1400   \n",
       "\n",
       "                               Region                               Producer  \\\n",
       "0                        guji-hambela                              METAD PLC   \n",
       "1                        guji-hambela                              METAD PLC   \n",
       "2                                 NaN                                    NaN   \n",
       "3                              oromia  Yidnekachew Dabessa Coffee Plantation   \n",
       "4                        guji-hambela                              METAD PLC   \n",
       "...                               ...                                    ...   \n",
       "1314               juchique de ferrer              JUAN CARLOS GARCÃA LOPEZ   \n",
       "1315  department d'artibonite , haiti          COEB Koperativ Ekselsyo Basen   \n",
       "1316                           jalapa                      TeÃ³filo NarvÃ¡ez   \n",
       "1317                    nuevo oriente      WILLIAM ESTUARDO MARTINEZ PACHECO   \n",
       "1318                        comayagua                        Reinerio Zepeda   \n",
       "\n",
       "     Number.of.Bags Bag.Weight unit_of_measurement Aroma  ...  Body Balance  \\\n",
       "0               300      60 kg                   m  8.67  ...  8.50    8.42   \n",
       "1               300      60 kg                   m  8.75  ...  8.42    8.42   \n",
       "2                 5          1                   m  8.42  ...  8.33    8.42   \n",
       "3               320      60 kg                   m  8.17  ...  8.50    8.25   \n",
       "4               300      60 kg                   m  8.25  ...  8.42    8.33   \n",
       "...             ...        ...                 ...   ...  ...   ...     ...   \n",
       "1314             12       1 kg                   m  7.08  ...  7.25    6.75   \n",
       "1315              1       2 kg                   m  6.75  ...  7.08    6.67   \n",
       "1316            550      69 kg                   m  7.25  ...  6.42    6.08   \n",
       "1317            275       1 kg                  ft   7.5  ...  7.33    6.67   \n",
       "1318            275      69 kg                   m     0  ...  0.00    0.00   \n",
       "\n",
       "     Uniformity  Clean.Cup  Sweetness  Cupper.Points  Moisture  \\\n",
       "0         10.00      10.00      10.00           8.75      0.12   \n",
       "1         10.00      10.00      10.00           8.58      0.12   \n",
       "2         10.00      10.00      10.00           9.25         0   \n",
       "3         10.00      10.00      10.00           8.67      0.11   \n",
       "4         10.00      10.00      10.00           8.58      0.12   \n",
       "...         ...        ...        ...            ...       ...   \n",
       "1314      10.00       0.00      10.00           6.75      0.11   \n",
       "1315       9.33       6.00       6.00           6.42      0.14   \n",
       "1316       6.00       6.00       6.00           6.17      0.13   \n",
       "1317       8.00       1.33       1.33           6.67       0.1   \n",
       "1318       0.00       0.00       0.00              0      0.12   \n",
       "\n",
       "      Category.One.Defects Quakers       Color  \n",
       "0                        0       0       Green  \n",
       "1                        0       0       Green  \n",
       "2                        0       0         NaN  \n",
       "3                        0       0       Green  \n",
       "4                        0       0       Green  \n",
       "...                    ...     ...         ...  \n",
       "1314                     0       0        None  \n",
       "1315                     8       0  Blue-Green  \n",
       "1316                     1       0       Green  \n",
       "1317                     0       0       Green  \n",
       "1318                     0       0       Green  \n",
       "\n",
       "[1319 rows x 23 columns]"
      ],
      "text/html": "<div>\n<style scoped>\n    .dataframe tbody tr th:only-of-type {\n        vertical-align: middle;\n    }\n\n    .dataframe tbody tr th {\n        vertical-align: top;\n    }\n\n    .dataframe thead th {\n        text-align: right;\n    }\n</style>\n<table border=\"1\" class=\"dataframe\">\n  <thead>\n    <tr style=\"text-align: right;\">\n      <th></th>\n      <th>ID</th>\n      <th>Country.of.Origin</th>\n      <th>Lot.Number</th>\n      <th>Altitude</th>\n      <th>Region</th>\n      <th>Producer</th>\n      <th>Number.of.Bags</th>\n      <th>Bag.Weight</th>\n      <th>unit_of_measurement</th>\n      <th>Aroma</th>\n      <th>...</th>\n      <th>Body</th>\n      <th>Balance</th>\n      <th>Uniformity</th>\n      <th>Clean.Cup</th>\n      <th>Sweetness</th>\n      <th>Cupper.Points</th>\n      <th>Moisture</th>\n      <th>Category.One.Defects</th>\n      <th>Quakers</th>\n      <th>Color</th>\n    </tr>\n  </thead>\n  <tbody>\n    <tr>\n      <th>0</th>\n      <td>1</td>\n      <td>Ethiopia</td>\n      <td>NaN</td>\n      <td>1950-2200</td>\n      <td>guji-hambela</td>\n      <td>METAD PLC</td>\n      <td>300</td>\n      <td>60 kg</td>\n      <td>m</td>\n      <td>8.67</td>\n      <td>...</td>\n      <td>8.50</td>\n      <td>8.42</td>\n      <td>10.00</td>\n      <td>10.00</td>\n      <td>10.00</td>\n      <td>8.75</td>\n      <td>0.12</td>\n      <td>0</td>\n      <td>0</td>\n      <td>Green</td>\n    </tr>\n    <tr>\n      <th>1</th>\n      <td>2</td>\n      <td>Ethiopia</td>\n      <td>NaN</td>\n      <td>1950-2200</td>\n      <td>guji-hambela</td>\n      <td>METAD PLC</td>\n      <td>300</td>\n      <td>60 kg</td>\n      <td>m</td>\n      <td>8.75</td>\n      <td>...</td>\n      <td>8.42</td>\n      <td>8.42</td>\n      <td>10.00</td>\n      <td>10.00</td>\n      <td>10.00</td>\n      <td>8.58</td>\n      <td>0.12</td>\n      <td>0</td>\n      <td>0</td>\n      <td>Green</td>\n    </tr>\n    <tr>\n      <th>2</th>\n      <td>3</td>\n      <td>Guatemala</td>\n      <td>NaN</td>\n      <td>1600 - 1800 m</td>\n      <td>NaN</td>\n      <td>NaN</td>\n      <td>5</td>\n      <td>1</td>\n      <td>m</td>\n      <td>8.42</td>\n      <td>...</td>\n      <td>8.33</td>\n      <td>8.42</td>\n      <td>10.00</td>\n      <td>10.00</td>\n      <td>10.00</td>\n      <td>9.25</td>\n      <td>0</td>\n      <td>0</td>\n      <td>0</td>\n      <td>NaN</td>\n    </tr>\n    <tr>\n      <th>3</th>\n      <td>4</td>\n      <td>Ethiopia</td>\n      <td>NaN</td>\n      <td>1800-2200</td>\n      <td>oromia</td>\n      <td>Yidnekachew Dabessa Coffee Plantation</td>\n      <td>320</td>\n      <td>60 kg</td>\n      <td>m</td>\n      <td>8.17</td>\n      <td>...</td>\n      <td>8.50</td>\n      <td>8.25</td>\n      <td>10.00</td>\n      <td>10.00</td>\n      <td>10.00</td>\n      <td>8.67</td>\n      <td>0.11</td>\n      <td>0</td>\n      <td>0</td>\n      <td>Green</td>\n    </tr>\n    <tr>\n      <th>4</th>\n      <td>5</td>\n      <td>Ethiopia</td>\n      <td>NaN</td>\n      <td>1950-2200</td>\n      <td>guji-hambela</td>\n      <td>METAD PLC</td>\n      <td>300</td>\n      <td>60 kg</td>\n      <td>m</td>\n      <td>8.25</td>\n      <td>...</td>\n      <td>8.42</td>\n      <td>8.33</td>\n      <td>10.00</td>\n      <td>10.00</td>\n      <td>10.00</td>\n      <td>8.58</td>\n      <td>0.12</td>\n      <td>0</td>\n      <td>0</td>\n      <td>Green</td>\n    </tr>\n    <tr>\n      <th>...</th>\n      <td>...</td>\n      <td>...</td>\n      <td>...</td>\n      <td>...</td>\n      <td>...</td>\n      <td>...</td>\n      <td>...</td>\n      <td>...</td>\n      <td>...</td>\n      <td>...</td>\n      <td>...</td>\n      <td>...</td>\n      <td>...</td>\n      <td>...</td>\n      <td>...</td>\n      <td>...</td>\n      <td>...</td>\n      <td>...</td>\n      <td>...</td>\n      <td>...</td>\n      <td>...</td>\n    </tr>\n    <tr>\n      <th>1314</th>\n      <td>1307</td>\n      <td>Mexico</td>\n      <td>NaN</td>\n      <td>900</td>\n      <td>juchique de ferrer</td>\n      <td>JUAN CARLOS GARCÃA LOPEZ</td>\n      <td>12</td>\n      <td>1 kg</td>\n      <td>m</td>\n      <td>7.08</td>\n      <td>...</td>\n      <td>7.25</td>\n      <td>6.75</td>\n      <td>10.00</td>\n      <td>0.00</td>\n      <td>10.00</td>\n      <td>6.75</td>\n      <td>0.11</td>\n      <td>0</td>\n      <td>0</td>\n      <td>None</td>\n    </tr>\n    <tr>\n      <th>1315</th>\n      <td>1308</td>\n      <td>Haiti</td>\n      <td>NaN</td>\n      <td>~350m</td>\n      <td>department d'artibonite , haiti</td>\n      <td>COEB Koperativ Ekselsyo Basen</td>\n      <td>1</td>\n      <td>2 kg</td>\n      <td>m</td>\n      <td>6.75</td>\n      <td>...</td>\n      <td>7.08</td>\n      <td>6.67</td>\n      <td>9.33</td>\n      <td>6.00</td>\n      <td>6.00</td>\n      <td>6.42</td>\n      <td>0.14</td>\n      <td>8</td>\n      <td>0</td>\n      <td>Blue-Green</td>\n    </tr>\n    <tr>\n      <th>1316</th>\n      <td>1309</td>\n      <td>Nicaragua</td>\n      <td>017-053-0211/ 017-053-0212</td>\n      <td>1100</td>\n      <td>jalapa</td>\n      <td>TeÃ³filo NarvÃ¡ez</td>\n      <td>550</td>\n      <td>69 kg</td>\n      <td>m</td>\n      <td>7.25</td>\n      <td>...</td>\n      <td>6.42</td>\n      <td>6.08</td>\n      <td>6.00</td>\n      <td>6.00</td>\n      <td>6.00</td>\n      <td>6.17</td>\n      <td>0.13</td>\n      <td>1</td>\n      <td>0</td>\n      <td>Green</td>\n    </tr>\n    <tr>\n      <th>1317</th>\n      <td>1310</td>\n      <td>Guatemala</td>\n      <td>NaN</td>\n      <td>4650</td>\n      <td>nuevo oriente</td>\n      <td>WILLIAM ESTUARDO MARTINEZ PACHECO</td>\n      <td>275</td>\n      <td>1 kg</td>\n      <td>ft</td>\n      <td>7.5</td>\n      <td>...</td>\n      <td>7.33</td>\n      <td>6.67</td>\n      <td>8.00</td>\n      <td>1.33</td>\n      <td>1.33</td>\n      <td>6.67</td>\n      <td>0.1</td>\n      <td>0</td>\n      <td>0</td>\n      <td>Green</td>\n    </tr>\n    <tr>\n      <th>1318</th>\n      <td>1312</td>\n      <td>Honduras</td>\n      <td>103</td>\n      <td>1400</td>\n      <td>comayagua</td>\n      <td>Reinerio Zepeda</td>\n      <td>275</td>\n      <td>69 kg</td>\n      <td>m</td>\n      <td>0</td>\n      <td>...</td>\n      <td>0.00</td>\n      <td>0.00</td>\n      <td>0.00</td>\n      <td>0.00</td>\n      <td>0.00</td>\n      <td>0</td>\n      <td>0.12</td>\n      <td>0</td>\n      <td>0</td>\n      <td>Green</td>\n    </tr>\n  </tbody>\n</table>\n<p>1319 rows × 23 columns</p>\n</div>"
     },
     "metadata": {},
     "execution_count": 19
    }
   ],
   "source": [
    "df_raw = pd.read_csv('Coffee-quality-institute.csv')\n",
    "df_raw.columns\n",
    "df_raw[['ID', 'Country.of.Origin', 'Lot.Number', 'Altitude', 'Region', 'Producer', 'Number.of.Bags', 'Bag.Weight', 'unit_of_measurement', 'Aroma', 'Flavor', 'Aftertaste', 'Acidity', 'Body', 'Balance', 'Uniformity', 'Clean.Cup', 'Sweetness', 'Cupper.Points', 'Moisture', 'Category.One.Defects', 'Quakers', 'Color']]"
   ]
  }
 ],
 "metadata": {
  "kernelspec": {
   "display_name": "Python 3",
   "language": "python",
   "name": "python3"
  },
  "language_info": {
   "codemirror_mode": {
    "name": "ipython",
    "version": 3
   },
   "file_extension": ".py",
   "mimetype": "text/x-python",
   "name": "python",
   "nbconvert_exporter": "python",
   "pygments_lexer": "ipython3",
   "version": "3.7.6-final"
  }
 },
 "nbformat": 4,
 "nbformat_minor": 4
}