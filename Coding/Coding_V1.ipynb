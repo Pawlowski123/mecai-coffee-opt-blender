{
 "cells": [
  {
   "cell_type": "code",
   "execution_count": 133,
   "metadata": {},
   "outputs": [],
   "source": [
    "import pandas as pd\n",
    "from pandas_profiling import ProfileReport\n",
    "import numpy as np\n",
    "import os"
   ]
  },
  {
   "cell_type": "code",
   "execution_count": 134,
   "metadata": {},
   "outputs": [
    {
     "output_type": "execute_result",
     "data": {
      "text/plain": [
       "'c:\\\\Users\\\\BC966HL\\\\OneDrive - EY\\\\4. Mestrado\\\\Dev\\\\Datasets'"
      ]
     },
     "metadata": {},
     "execution_count": 134
    }
   ],
   "source": [
    "os.chdir('..')\n",
    "os.chdir('Datasets/')\n",
    "os.getcwd()"
   ]
  },
  {
   "cell_type": "code",
   "execution_count": 135,
   "metadata": {},
   "outputs": [],
   "source": [
    "df_raw = pd.read_csv('Coffee-quality-institute.csv')\n",
    "df_raw.columns\n",
    "df_raw = df_raw[['ID', 'Species', 'Country.of.Origin', 'Lot.Number', 'Altitude', 'unit_of_measurement', 'Number.of.Bags', 'Bag.Weight', 'Aroma', 'Flavor', 'Aftertaste', 'Acidity', 'Body', 'Balance', 'Uniformity', 'Clean.Cup', 'Sweetness', 'Cupper.Points', 'Moisture', 'Category.One.Defects', 'Color']]\n",
    "\n",
    "# Renaming columns according to friendly labels\n",
    "df_renamed = df_raw.rename(columns={'Country.of.Origin': 'ORIGIN_COUNTRY',\n",
    "                                    'Species': 'SPECIES',\n",
    "                                    'Lot.Number': 'LOT_NUMBER',\n",
    "                                    'Altitude': 'ALTITUDE',\n",
    "                                    'unit_of_measurement': 'UOM_NN',\n",
    "                                    'Number.of.Bags': 'BAG_AVAILABILITY',\n",
    "                                    'Bag.Weight': 'BAG_WEIGHT_NN',\n",
    "                                    'Aroma': 'AROMA',\n",
    "                                    'Flavor': 'FLAVOR',\n",
    "                                    'Aftertaste': 'AFTERTASTE',\n",
    "                                    'Acidity': 'ACIDITY',\n",
    "                                    'Body': 'BODY',\n",
    "                                    'Balance': 'BALANCE',\n",
    "                                    'Uniformity': 'UNIFORMITY',\n",
    "                                    'Clean.Cup': 'CLEAN_CUP',\n",
    "                                    'Sweetness': 'SWEETNESS',\n",
    "                                    'Cupper.Points': 'CUPPER_POINTS',\n",
    "                                    'Moisture': 'MOISTURE',\n",
    "                                    'Category.One.Defects': 'CATEGORY_ONE_DEFECTS',\n",
    "                                    'Color': 'COLOR'\n",
    "                                    }\n",
    "                            )"
   ]
  },
  {
   "cell_type": "code",
   "execution_count": 136,
   "metadata": {},
   "outputs": [],
   "source": [
    "# Applying columns definition according to model needs\n",
    "df_treated = df_renamed[(df_renamed['ID'].notnull()) &\n",
    "                        (df_renamed['SPECIES'] == 'Arabica') &\n",
    "                        (df_renamed['BAG_AVAILABILITY'].notnull()) &\n",
    "                        (df_renamed['BAG_WEIGHT_NN'].notnull()) &\n",
    "                        (df_renamed['AROMA'].notnull()) &\n",
    "                        (df_renamed['FLAVOR'].notnull()) &\n",
    "                        (df_renamed['AFTERTASTE'].notnull()) &\n",
    "                        (df_renamed['ACIDITY'].notnull()) &\n",
    "                        (df_renamed['BODY'].notnull()) &\n",
    "                        (df_renamed['BALANCE'].notnull()) &\n",
    "                        (df_renamed['UNIFORMITY'].notnull()) &\n",
    "                        (df_renamed['CLEAN_CUP'].notnull()) &\n",
    "                        (df_renamed['SWEETNESS'].notnull()) &\n",
    "                        (df_renamed['CUPPER_POINTS'].notnull()) &\n",
    "                        (df_renamed['MOISTURE'].notnull()) &\n",
    "                        (df_renamed['CATEGORY_ONE_DEFECTS'].notnull()) &\n",
    "                        (df_renamed['COLOR'].notnull())\n",
    "                       ]\n",
    "\n",
    "df_treated[['BAG_WEIGHT_NN_VALUE', 'BAG_WEIGHT_NN_UNIT']] = df_treated['BAG_WEIGHT_NN'].str.split(' ', expand = True)\n",
    "df_treated = df_treated.drop(columns = ['BAG_WEIGHT_NN'])\n",
    "df_treated['BAG_WEIGHT_KG'] = 0"
   ]
  },
  {
   "cell_type": "code",
   "execution_count": 156,
   "metadata": {},
   "outputs": [],
   "source": [
    "# Normalizing AVAILABILITY and BAG UNIT fields\n",
    "# Columns in which the unit is kg, gets the kg value\n",
    "df_treated.loc[(df_treated['BAG_WEIGHT_NN_UNIT'] == 'kg'),['BAG_WEIGHT_KG']] = df_treated.loc[(df_treated['BAG_WEIGHT_NN_UNIT'] == 'kg')]['BAG_WEIGHT_NN_VALUE']\n",
    "\n",
    "# Columns in which the unit is lbs, gets the kg value times 0.4536 in order to convert it from lbs to kg\n",
    "#df_treated.loc[(df_treated['BAG_WEIGHT_NN_UNIT'] == 'lbs'), ['BAG_WEIGHT_KG']] = df_treated.loc[(df_treated['BAG_WEIGHT_NN_UNIT'] == 'lbs')]['BAG_WEIGHT_NN_VALUE'].mul(0.4536)\n",
    "\n",
    "# Columns with unit different from kg or lbs gets NaN in order to be removed\n",
    "df_treated.loc[(df_treated['BAG_WEIGHT_NN_UNIT'] != 'kg') & (df_treated['BAG_WEIGHT_NN_UNIT'] != 'lbs'), ['BAG_WEIGHT_KG']] = np.NaN"
   ]
  },
  {
   "cell_type": "code",
   "execution_count": 132,
   "metadata": {},
   "outputs": [],
   "source": [
    "#ProfileReport(df_treated, title = 'Raw Profiling')"
   ]
  },
  {
   "cell_type": "code",
   "execution_count": 145,
   "metadata": {},
   "outputs": [
    {
     "output_type": "execute_result",
     "data": {
      "text/plain": [
       "array(['60', '30', '69', '1', nan, '50', '15', '2', '70', '19200', '46',\n",
       "       '40', '20', '34', '660', '18975', '12000', '35', '66', '80', '5',\n",
       "       '25', '18000', '9000', '18', '10', '29', '1218', '0', '13800',\n",
       "       '1500', '8', '59', '3', '350', '67', '4', '100'], dtype=object)"
      ]
     },
     "metadata": {},
     "execution_count": 145
    }
   ],
   "source": [
    "df_treated['BAG_WEIGHT_KG'].unique()"
   ]
  }
 ],
 "metadata": {
  "kernelspec": {
   "display_name": "Python 3",
   "language": "python",
   "name": "python3"
  },
  "language_info": {
   "codemirror_mode": {
    "name": "ipython",
    "version": 3
   },
   "file_extension": ".py",
   "mimetype": "text/x-python",
   "name": "python",
   "nbconvert_exporter": "python",
   "pygments_lexer": "ipython3",
   "version": "3.7.6-final"
  }
 },
 "nbformat": 4,
 "nbformat_minor": 4
}