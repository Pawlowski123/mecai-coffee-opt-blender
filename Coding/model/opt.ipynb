{
 "metadata": {
  "language_info": {
   "codemirror_mode": {
    "name": "ipython",
    "version": 3
   },
   "file_extension": ".py",
   "mimetype": "text/x-python",
   "name": "python",
   "nbconvert_exporter": "python",
   "pygments_lexer": "ipython3",
   "version": "3.7.6-final"
  },
  "orig_nbformat": 2,
  "kernelspec": {
   "name": "python3",
   "display_name": "Python 3"
  }
 },
 "nbformat": 4,
 "nbformat_minor": 2,
 "cells": [
  {
   "cell_type": "code",
   "execution_count": 228,
   "metadata": {},
   "outputs": [],
   "source": [
    "import os\n",
    "import pandas as pd\n",
    "import numpy as np\n",
    "from scipy.optimize import minimize, LinearConstraint, NonlinearConstraint"
   ]
  },
  {
   "cell_type": "code",
   "execution_count": 229,
   "metadata": {},
   "outputs": [
    {
     "output_type": "execute_result",
     "data": {
      "text/plain": [
       "'C:\\\\Users\\\\BC966HL\\\\OneDrive - EY\\\\4. Mestrado\\\\Dev'"
      ]
     },
     "metadata": {},
     "execution_count": 229
    }
   ],
   "source": [
    "#os.chdir('..')\n",
    "os.chdir('C:/Users/BC966HL/OneDrive - EY/4. Mestrado/Dev/')\n",
    "os.getcwd()"
   ]
  },
  {
   "cell_type": "code",
   "execution_count": 230,
   "metadata": {},
   "outputs": [],
   "source": [
    "df_recipe = pd.read_csv('Datasets/model/input_recipe.csv', sep = ';')\n",
    "df_available_lots = pd.read_csv('Datasets/model/input_lots_available.csv', sep = ';')"
   ]
  },
  {
   "cell_type": "code",
   "execution_count": 231,
   "metadata": {},
   "outputs": [],
   "source": [
    "from pandas_profiling import ProfileReport\n",
    "\n",
    "#ProfileReport(df_available_lots)"
   ]
  },
  {
   "cell_type": "code",
   "execution_count": 232,
   "metadata": {},
   "outputs": [],
   "source": [
    "# Recipe constraint considering delta of 1 between parameters reference and found\n",
    "const_aroma = NonlinearConstraint(lambda x: abs(float(df_recipe['AROMA']) - (sum(np.array(df_available_lots['AROMA'])*x))/sum(x)), 0, 1)\n",
    "const_flavor = NonlinearConstraint(lambda x: abs(float(df_recipe['FLAVOR']) - (sum(np.array(df_available_lots['FLAVOR'])*x))/sum(x)), 0, 1)\n",
    "const_aftertaste = NonlinearConstraint(lambda x: abs(float(df_recipe['AFTERTASTE']) - (sum(np.array(df_available_lots['AFTERTASTE'])*x))/sum(x)), 0, 1)\n",
    "const_acidity = NonlinearConstraint(lambda x: abs(float(df_recipe['ACIDITY']) - (sum(np.array(df_available_lots['ACIDITY'])*x))/sum(x)), 0, 1)\n",
    "const_body = NonlinearConstraint(lambda x: abs(float(df_recipe['BODY']) - (sum(np.array(df_available_lots['BODY'])*x))/sum(x)), 0, 1)\n",
    "const_balance = NonlinearConstraint(lambda x: abs(float(df_recipe['BALANCE']) - (sum(np.array(df_available_lots['BALANCE'])*x))/sum(x)), 0, 1)\n",
    "#const_uniformity = NonlinearConstraint(abs(df_recipe['UNIFORMITY'] - (sum(np.array(df_available_lots['UNIFORMITY'])*m))/sum(m)), 0, 1)\n",
    "#const_clean_cup = NonlinearConstraint(abs(df_recipe['CLEAN_CUP'] - (sum(np.array(df_available_lots['CLEAN_CUP'])*m))/sum(m)), 0, 1)\n",
    "#const_sweetness = NonlinearConstraint(abs(df_recipe['SWEETNESS'] - (sum(np.array(df_available_lots['SWEETNESS'])*m))/sum(m)), 0, 1)\n",
    "const_moisture = NonlinearConstraint(lambda x: abs(float(df_recipe['MOISTURE']) - (sum(np.array(df_available_lots['MOISTURE'])*x))/sum(x)), 0, .01)\n",
    "const_volume_need = NonlinearConstraint(lambda x: sum(x), .95*float(df_recipe['VOLUME_NEED']), 1.05*float(df_recipe['VOLUME_NEED']))"
   ]
  },
  {
   "cell_type": "code",
   "execution_count": 233,
   "metadata": {},
   "outputs": [
    {
     "output_type": "error",
     "ename": "NameError",
     "evalue": "name 'm' is not defined",
     "traceback": [
      "\u001b[1;31m---------------------------------------------------------------------------\u001b[0m",
      "\u001b[1;31mNameError\u001b[0m                                 Traceback (most recent call last)",
      "\u001b[1;32m<ipython-input-233-cc7d659074a0>\u001b[0m in \u001b[0;36m<module>\u001b[1;34m\u001b[0m\n\u001b[0;32m      1\u001b[0m \u001b[1;31m# Objective functions\u001b[0m\u001b[1;33m\u001b[0m\u001b[1;33m\u001b[0m\u001b[1;33m\u001b[0m\u001b[0m\n\u001b[0;32m      2\u001b[0m \u001b[1;31m# Main OF\u001b[0m\u001b[1;33m\u001b[0m\u001b[1;33m\u001b[0m\u001b[1;33m\u001b[0m\u001b[0m\n\u001b[1;32m----> 3\u001b[1;33m \u001b[0mfo_cost\u001b[0m \u001b[1;33m=\u001b[0m \u001b[0msum\u001b[0m\u001b[1;33m(\u001b[0m\u001b[0mm\u001b[0m\u001b[1;33m*\u001b[0m\u001b[0mnp\u001b[0m\u001b[1;33m.\u001b[0m\u001b[0marray\u001b[0m\u001b[1;33m(\u001b[0m\u001b[0mdf_available_lots\u001b[0m\u001b[1;33m[\u001b[0m\u001b[1;34m'COST_BRL_KG'\u001b[0m\u001b[1;33m]\u001b[0m\u001b[1;33m)\u001b[0m\u001b[1;33m)\u001b[0m\u001b[1;33m\u001b[0m\u001b[1;33m\u001b[0m\u001b[0m\n\u001b[0m\u001b[0;32m      4\u001b[0m \u001b[1;33m\u001b[0m\u001b[0m\n\u001b[0;32m      5\u001b[0m \u001b[1;31m# Parameters delta minimization\u001b[0m\u001b[1;33m\u001b[0m\u001b[1;33m\u001b[0m\u001b[1;33m\u001b[0m\u001b[0m\n",
      "\u001b[1;31mNameError\u001b[0m: name 'm' is not defined"
     ]
    }
   ],
   "source": [
    "# Objective functions\n",
    "# Main OF\n",
    "fo_cost = sum(m*np.array(df_available_lots['COST_BRL_KG']))\n",
    "\n",
    "# Parameters delta minimization\n",
    "fo_aroma = df_recipe['AROMA'] - (sum(np.array(df_available_lots['AROMA'])*m))/sum(m)\n",
    "fo_flavor = df_recipe['FLAVOR'] - (sum(np.array(df_available_lots['FLAVOR'])*m))/sum(m)\n",
    "fo_aftertaste = df_recipe['AFTERTASTE'] - (sum(np.array(df_available_lots['AFTERTASTE'])*m))/sum(m)"
   ]
  },
  {
   "cell_type": "code",
   "execution_count": 234,
   "metadata": {},
   "outputs": [],
   "source": [
    "# Creating bound matrix with xn with lb = 0 and ub = lot n availability\n",
    "bnd = []\n",
    "for limit in df_available_lots['LOT_AVAILABILITY_KG']:\n",
    "    bnd.append((0, int(limit)))"
   ]
  },
  {
   "cell_type": "code",
   "execution_count": 235,
   "metadata": {},
   "outputs": [],
   "source": [
    "def cost_obj_f(x, cost_per_lot):\n",
    "    return np.sqrt(sum(np.array(cost_per_lot)*x))"
   ]
  },
  {
   "cell_type": "code",
   "execution_count": 236,
   "metadata": {},
   "outputs": [
    {
     "output_type": "execute_result",
     "data": {
      "text/plain": [
       "('Optimization terminated successfully.',\n",
       " 9138.04999999941,\n",
       " 9619.0,\n",
       " 129695.41181123425)"
      ]
     },
     "metadata": {},
     "execution_count": 236
    }
   ],
   "source": [
    "#x = np.ones(len(df_available_lots['COST_BRL_KG']))\n",
    "slsqp.status = -1\n",
    "while(slsqp.status != 0):\n",
    "    slsqp = minimize(cost_obj_f,\n",
    "                x0 = np.random.randint(0, 100, len(df_available_lots['COST_BRL_KG'])),\n",
    "                args = (df_available_lots['COST_BRL_KG'],),\n",
    "                method = 'SLSQP',\n",
    "                constraints = [const_volume_need, const_aroma, const_flavor, const_aftertaste, const_acidity, const_body, const_balance, const_moisture],\n",
    "                bounds = bnd\n",
    "                #constraints = [const_aroma, const_flavor, const_aftertaste, const_acidity, const_body, const_balance, const_uniformity, const_clean_cup, const_sweetness,                                  const_moisture, const_volume_per_lot, const_volume_need]\n",
    "                )\n",
    "\n",
    "slsqp.message, sum(slsqp.x), float(df_recipe['VOLUME_NEED']), slsqp.fun**2"
   ]
  },
  {
   "cell_type": "code",
   "execution_count": 202,
   "metadata": {},
   "outputs": [
    {
     "output_type": "execute_result",
     "data": {
      "text/plain": [
       "('Did not converge to a solution satisfying the constraints. See `maxcv` for magnitude of violation.',\n",
       " 3608.4926059065265,\n",
       " 66479.0,\n",
       " 105100.02000304202)"
      ]
     },
     "metadata": {},
     "execution_count": 202
    }
   ],
   "source": [
    "#x = np.ones(len(df_available_lots['COST_BRL_KG']))\n",
    "cobyla = minimize(cost_obj_f,\n",
    "                x0 = np.random.randint(0, 100, len(df_available_lots['COST_BRL_KG'])),\n",
    "                args = (df_available_lots['COST_BRL_KG'],),\n",
    "                method = 'COBYLA',\n",
    "                constraints = [const_volume_need, const_aroma, const_flavor, const_aftertaste, const_acidity, const_body, const_balance, const_moisture],\n",
    "                bounds = bnd\n",
    "                #constraints = [const_aroma, const_flavor, const_aftertaste, const_acidity, const_body, const_balance, const_uniformity, const_clean_cup, const_sweetness,                                  const_moisture, const_volume_per_lot, const_volume_need]\n",
    "                )\n",
    "\n",
    "cobyla.message, sum(cobyla.x), float(df_recipe['VOLUME_NEED']), cobyla.fun**2"
   ]
  },
  {
   "cell_type": "code",
   "execution_count": 11,
   "metadata": {},
   "outputs": [],
   "source": [
    "#Recipe constraints, considering 5% lower and upper bounds on the df_recipe parameters\n",
    "#const_aroma = LinearConstraint([1], .95*float(df_recipe['AROMA']), 1.05*float(df_recipe['AROMA']))\n",
    "#const_flavor = LinearConstraint([1], .95*float(df_recipe['FLAVOR']), 1.05*float(df_recipe['FLAVOR']))\n",
    "#const_aftertaste = LinearConstraint([1], .95*float(df_recipe['AFTERTASTE']), 1.05*float(df_recipe['AFTERTASTE']))\n",
    "#const_acidity = LinearConstraint([1], .95*float(df_recipe['ACIDITY']), 1.05*float(df_recipe['ACIDITY']))\n",
    "#const_body = LinearConstraint([1], .95*float(df_recipe['BODY']), 1.05*float(df_recipe['BODY']))\n",
    "#const_balance = LinearConstraint([1], .95*float(df_recipe['BALANCE']), 1.05*float(df_recipe['BALANCE']))\n",
    "#const_uniformity = LinearConstraint([1], .95*float(df_recipe['UNIFORMITY']), 1.05*float(df_recipe['UNIFORMITY']))\n",
    "#const_clean_cup = LinearConstraint([1], .95*float(df_recipe['CLEAN_CUP']), 1.05*float(df_recipe['CLEAN_CUP']))\n",
    "#const_sweetness = LinearConstraint([1], .95*float(df_recipe['SWEETNESS']), 1.05*float(df_recipe['SWEETNESS']))\n",
    "#const_moisture = LinearConstraint([1], .95*float(df_recipe['MOISTURE']), 1.05*float(df_recipe['MOISTURE']))\n",
    "#const_volume_need = LinearConstraint([1], .95*float(df_recipe['VOLUME_NEED']), 1.05*float(df_recipe['VOLUME_NEED']))"
   ]
  }
 ]
}