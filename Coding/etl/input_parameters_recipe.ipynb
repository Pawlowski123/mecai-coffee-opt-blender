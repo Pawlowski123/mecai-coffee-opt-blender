{
 "metadata": {
  "language_info": {
   "codemirror_mode": {
    "name": "ipython",
    "version": 3
   },
   "file_extension": ".py",
   "mimetype": "text/x-python",
   "name": "python",
   "nbconvert_exporter": "python",
   "pygments_lexer": "ipython3",
   "version": "3.7.6-final"
  },
  "orig_nbformat": 2,
  "kernelspec": {
   "name": "Python 3.7.6 64-bit ('base': conda)",
   "display_name": "Python 3.7.6 64-bit ('base': conda)",
   "metadata": {
    "interpreter": {
     "hash": "80629b01526bf2541e72cdde0acf25d4762fe6e60ba82d2e07af90ce7c2a0375"
    }
   }
  }
 },
 "nbformat": 4,
 "nbformat_minor": 2,
 "cells": [
  {
   "cell_type": "code",
   "execution_count": 30,
   "metadata": {},
   "outputs": [],
   "source": [
    "import pandas as pd\n",
    "from pandas_profiling import ProfileReport\n",
    "import numpy as np\n",
    "import os\n",
    "import logging"
   ]
  },
  {
   "cell_type": "code",
   "execution_count": 31,
   "metadata": {},
   "outputs": [
    {
     "output_type": "execute_result",
     "data": {
      "text/plain": [
       "'c:\\\\Users\\\\BC966HL\\\\OneDrive - EY\\\\4. Mestrado\\\\Dev'"
      ]
     },
     "metadata": {},
     "execution_count": 31
    }
   ],
   "source": [
    "#os.chdir('..')\n",
    "os.getcwd()"
   ]
  },
  {
   "cell_type": "code",
   "execution_count": 38,
   "metadata": {},
   "outputs": [],
   "source": [
    "def recipe_def():\n",
    "    \"\"\" Reading dataframe with coffee sample metadata and getting random recipe to be the model goal\n",
    "\n",
    "    Parameters\n",
    "    ----------\n",
    "    df_norm_cost: pandas dataframe with coffee sample metadata obtained from create_cost_column function\n",
    "    lot_limit: number of rows it should be obtained from original dataframe to consider as lot input\n",
    "\n",
    "    Returns:\n",
    "    ----------\n",
    "    df_recipe: Pandas dataframe with one row, the model metadata reference, LOT_AVAILABILITY_KG = -1, it will be simulated later\n",
    "    df_norm: Pandas dataframe with df_recipe row removed\n",
    "    \"\"\"\n",
    "\n",
    "    logging.warning(os.getcwd())\n",
    "    df_norm = pd.read_csv('Datasets/cleaned_cqi_file.csv', sep = ';')\n",
    "    logging.warning('File read successfully')\n",
    "    logging.warning('.')\n",
    "\n",
    "    # Creating df_recipe dataframe, it will be used as the model goal on the parameters\n",
    "    recipe_random = list(np.random.randint(low = 0, high = len(df_norm), size = 1))\n",
    "    df_recipe = df_norm.iloc[recipe_random]\n",
    "    df_norm = df_norm.drop(axis = 0, index = recipe_random)\n",
    "    logging.warning('Recipe dataframe and df_norm with recipe row removed created successfully')\n",
    "    df_recipe['LOT_AVAILABILITY_KG'] = -1\n",
    "\n",
    "    return df_recipe, df_norm"
   ]
  },
  {
   "cell_type": "code",
   "execution_count": 33,
   "metadata": {},
   "outputs": [],
   "source": [
    "def create_cost_column(df_norm, cost_min = 5, cost_max = 50):\n",
    "    \"\"\" Reading normalized CSV and creating algorithm to get a random parameters recipe and random lot number\n",
    "\n",
    "    Parameters\n",
    "    ----------\n",
    "    df_norm: pandas dataframe with recipe row removed from normalized csv data\n",
    "    cost_min: random minimum cost in BRL/kg\n",
    "    cost_max: random maximum cost in BRL/kg\n",
    "\n",
    "    Returns:\n",
    "    ----------\n",
    "    Pandas dataframe with coffee sample metadata and random parametrized cost (BRL/kg) column\n",
    "    \"\"\"\n",
    "\n",
    "    df_norm['COST_BRL_KG'] = np.random.uniform(cost_min, cost_max, size = len(df_norm))\n",
    "    logging.warning('Cost random column created with range: %.0f and %.0f', cost_min, cost_max)\n",
    "    logging.warning('.')\n",
    "\n",
    "    return df_norm"
   ]
  },
  {
   "cell_type": "code",
   "execution_count": 34,
   "metadata": {},
   "outputs": [],
   "source": [
    "def input_lots(df_norm_cost, lot_limit = 10, return_df_norm_wout_lots = False):\n",
    "    \"\"\" Reading dataframe with coffee sample metadata and random parametrized cost (BRL/kg) and creating model-input lot availability\n",
    "\n",
    "    Parameters\n",
    "    ----------\n",
    "    df_norm_cost: pandas dataframe with coffee sample metadata obtained from create_cost_column function\n",
    "    lot_limit: number of rows it should be obtained from original dataframe to consider as lot input\n",
    "\n",
    "    Returns:\n",
    "    ----------\n",
    "    df_lot_input: Pandas dataframe with coffee sample metadata with lot_limit number of rows\n",
    "    df_norm: Original Pandas dataframe with df_lot_input rows removed\n",
    "    \"\"\"\n",
    "\n",
    "    # Creating random list with size lot_limit as parameter and range inside the df_norm_cost number of rows\n",
    "    rows_lot_limit = list(np.random.randint(low = 0, high = len(df_norm_cost), size = lot_limit))\n",
    "    df_lots_available = df_norm_cost.iloc[rows_lot_limit]\n",
    "    df_norm_wout_lots_available = df_norm_cost.drop(axis = 0, index = rows_lot_limit)\n",
    "    logging.warning('Datasets with %.0f lots metadata and rewritten df_norm_cost successfully created', lot_limit)\n",
    "\n",
    "    if return_df_norm_wout_lots == True:\n",
    "        return df_lots_available, df_norm_wout_lots_available\n",
    "    else:\n",
    "        return df_lots_available"
   ]
  },
  {
   "cell_type": "code",
   "execution_count": 48,
   "metadata": {},
   "outputs": [],
   "source": [
    "def target_volume(df_recipe, df_lots_available, simulate_broken_volume = False, low_perc = 0.2, high_perc = 0.8, broken_volume_perc = 1.5):\n",
    "    \"\"\" Reading df_recipe to calculate possible volume to be achieved\n",
    "\n",
    "    Parameters\n",
    "    ----------\n",
    "    df_recipe: Pandas dataframe with one row, the model metadata reference\n",
    "    df_lots_available: Pandas dataframe with coffee sample metadata with lot_limit number of rows\n",
    "    simulate_broken_volume: boolean variable to define, when set to True, if the volume should be higher than the input lots availability, default: False\n",
    "    Returns:\n",
    "    ----------\n",
    "    df_lot_input: Pandas dataframe with coffee sample metadata with lot_limit number of rows\n",
    "    df_norm: Original Pandas dataframe with df_lot_input rows removed\n",
    "    \"\"\"\n",
    "    \n",
    "    input_total_volume = int(df_lots_available['LOT_AVAILABILITY_KG'].sum())\n",
    "    df_recipe = df_recipe.rename(columns = {'LOT_AVAILABILITY_KG': 'VOLUME_NEED'})\n",
    "    \n",
    "    if simulate_broken_volume == False:\n",
    "        df_recipe['VOLUME_NEED'] = np.random.randint(low = low_perc*input_total_volume, high = high_perc*input_total_volume, size = 1)\n",
    "    else:\n",
    "        df_recipe['VOLUME_NEED'] = np.random.randint(low = input_total_volume, high = broken_volume_perc*input_total_volume, size = 1)\n",
    "\n",
    "    return df_recipe"
   ]
  },
  {
   "cell_type": "code",
   "execution_count": 49,
   "metadata": {},
   "outputs": [
    {
     "output_type": "stream",
     "name": "stderr",
     "text": [
      "WARNING:root:c:\\Users\\BC966HL\\OneDrive - EY\\4. Mestrado\\Dev\n",
      "WARNING:root:File read successfully\n",
      "WARNING:root:.\n",
      "WARNING:root:Recipe dataframe and df_norm with recipe row removed created successfully\n",
      "WARNING:root:Cost random column created with range: 5 and 50\n",
      "WARNING:root:.\n",
      "WARNING:root:Datasets with 10 lots metadata and rewritten df_norm_cost successfully created\n"
     ]
    },
    {
     "output_type": "execute_result",
     "data": {
      "text/plain": [
       "    Unnamed: 0  index   ID  SPECIES ORIGIN_COUNTRY LOT_NUMBER ALTITUDE  \\\n",
       "94          94    179  180  Arabica          Kenya     K25159     1800   \n",
       "\n",
       "   ALTITUDE_UOM_NN  AROMA  FLAVOR  ...  BODY  BALANCE  UNIFORMITY  CLEAN_CUP  \\\n",
       "94               m   7.33    7.58  ...  7.75     7.92        10.0       10.0   \n",
       "\n",
       "    SWEETNESS  CUPPER_POINTS  MOISTURE  CATEGORY_ONE_DEFECTS  COLOR  \\\n",
       "94       10.0           8.17      0.11                   0.0  Green   \n",
       "\n",
       "    VOLUME_NEED  \n",
       "94        30002  \n",
       "\n",
       "[1 rows x 22 columns]"
      ],
      "text/html": "<div>\n<style scoped>\n    .dataframe tbody tr th:only-of-type {\n        vertical-align: middle;\n    }\n\n    .dataframe tbody tr th {\n        vertical-align: top;\n    }\n\n    .dataframe thead th {\n        text-align: right;\n    }\n</style>\n<table border=\"1\" class=\"dataframe\">\n  <thead>\n    <tr style=\"text-align: right;\">\n      <th></th>\n      <th>Unnamed: 0</th>\n      <th>index</th>\n      <th>ID</th>\n      <th>SPECIES</th>\n      <th>ORIGIN_COUNTRY</th>\n      <th>LOT_NUMBER</th>\n      <th>ALTITUDE</th>\n      <th>ALTITUDE_UOM_NN</th>\n      <th>AROMA</th>\n      <th>FLAVOR</th>\n      <th>...</th>\n      <th>BODY</th>\n      <th>BALANCE</th>\n      <th>UNIFORMITY</th>\n      <th>CLEAN_CUP</th>\n      <th>SWEETNESS</th>\n      <th>CUPPER_POINTS</th>\n      <th>MOISTURE</th>\n      <th>CATEGORY_ONE_DEFECTS</th>\n      <th>COLOR</th>\n      <th>VOLUME_NEED</th>\n    </tr>\n  </thead>\n  <tbody>\n    <tr>\n      <th>94</th>\n      <td>94</td>\n      <td>179</td>\n      <td>180</td>\n      <td>Arabica</td>\n      <td>Kenya</td>\n      <td>K25159</td>\n      <td>1800</td>\n      <td>m</td>\n      <td>7.33</td>\n      <td>7.58</td>\n      <td>...</td>\n      <td>7.75</td>\n      <td>7.92</td>\n      <td>10.0</td>\n      <td>10.0</td>\n      <td>10.0</td>\n      <td>8.17</td>\n      <td>0.11</td>\n      <td>0.0</td>\n      <td>Green</td>\n      <td>30002</td>\n    </tr>\n  </tbody>\n</table>\n<p>1 rows × 22 columns</p>\n</div>"
     },
     "metadata": {},
     "execution_count": 49
    }
   ],
   "source": [
    "df_recipe, df_norm = recipe_def()\n",
    "df_norm_cost = create_cost_column(df_norm)\n",
    "df_lots_available = input_lots(df_norm_cost, return_df_norm_wout_lots = False)\n",
    "target_volume(df_recipe, df_lots_available, simulate_broken_volume = False)"
   ]
  },
  {
   "cell_type": "code",
   "execution_count": 40,
   "metadata": {},
   "outputs": [
    {
     "output_type": "execute_result",
     "data": {
      "text/plain": [
       "     Unnamed: 0  index   ID  SPECIES ORIGIN_COUNTRY LOT_NUMBER ALTITUDE  \\\n",
       "544         544    860  861  Arabica        Vietnam        NaN     1040   \n",
       "\n",
       "    ALTITUDE_UOM_NN  AROMA  FLAVOR  ...  BODY  BALANCE  UNIFORMITY  CLEAN_CUP  \\\n",
       "544               m    7.0    7.08  ...   7.5     7.33        10.0       10.0   \n",
       "\n",
       "     SWEETNESS  CUPPER_POINTS  MOISTURE  CATEGORY_ONE_DEFECTS         COLOR  \\\n",
       "544       10.0            8.0      0.12                   0.0  Bluish-Green   \n",
       "\n",
       "     LOT_AVAILABILITY_KG  \n",
       "544                   -1  \n",
       "\n",
       "[1 rows x 22 columns]"
      ],
      "text/html": "<div>\n<style scoped>\n    .dataframe tbody tr th:only-of-type {\n        vertical-align: middle;\n    }\n\n    .dataframe tbody tr th {\n        vertical-align: top;\n    }\n\n    .dataframe thead th {\n        text-align: right;\n    }\n</style>\n<table border=\"1\" class=\"dataframe\">\n  <thead>\n    <tr style=\"text-align: right;\">\n      <th></th>\n      <th>Unnamed: 0</th>\n      <th>index</th>\n      <th>ID</th>\n      <th>SPECIES</th>\n      <th>ORIGIN_COUNTRY</th>\n      <th>LOT_NUMBER</th>\n      <th>ALTITUDE</th>\n      <th>ALTITUDE_UOM_NN</th>\n      <th>AROMA</th>\n      <th>FLAVOR</th>\n      <th>...</th>\n      <th>BODY</th>\n      <th>BALANCE</th>\n      <th>UNIFORMITY</th>\n      <th>CLEAN_CUP</th>\n      <th>SWEETNESS</th>\n      <th>CUPPER_POINTS</th>\n      <th>MOISTURE</th>\n      <th>CATEGORY_ONE_DEFECTS</th>\n      <th>COLOR</th>\n      <th>LOT_AVAILABILITY_KG</th>\n    </tr>\n  </thead>\n  <tbody>\n    <tr>\n      <th>544</th>\n      <td>544</td>\n      <td>860</td>\n      <td>861</td>\n      <td>Arabica</td>\n      <td>Vietnam</td>\n      <td>NaN</td>\n      <td>1040</td>\n      <td>m</td>\n      <td>7.0</td>\n      <td>7.08</td>\n      <td>...</td>\n      <td>7.5</td>\n      <td>7.33</td>\n      <td>10.0</td>\n      <td>10.0</td>\n      <td>10.0</td>\n      <td>8.0</td>\n      <td>0.12</td>\n      <td>0.0</td>\n      <td>Bluish-Green</td>\n      <td>-1</td>\n    </tr>\n  </tbody>\n</table>\n<p>1 rows × 22 columns</p>\n</div>"
     },
     "metadata": {},
     "execution_count": 40
    }
   ],
   "source": [
    "df_recipe"
   ]
  },
  {
   "cell_type": "code",
   "execution_count": 37,
   "metadata": {},
   "outputs": [
    {
     "output_type": "execute_result",
     "data": {
      "text/plain": [
       "99899.0"
      ]
     },
     "metadata": {},
     "execution_count": 37
    }
   ],
   "source": [
    "df_lots_available['LOT_AVAILABILITY_KG'].sum()"
   ]
  }
 ]
}