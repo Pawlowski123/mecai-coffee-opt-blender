{
 "metadata": {
  "language_info": {
   "codemirror_mode": {
    "name": "ipython",
    "version": 3
   },
   "file_extension": ".py",
   "mimetype": "text/x-python",
   "name": "python",
   "nbconvert_exporter": "python",
   "pygments_lexer": "ipython3",
   "version": "3.7.6-final"
  },
  "orig_nbformat": 2,
  "kernelspec": {
   "name": "Python 3.7.6 64-bit ('base': conda)",
   "display_name": "Python 3.7.6 64-bit ('base': conda)",
   "metadata": {
    "interpreter": {
     "hash": "80629b01526bf2541e72cdde0acf25d4762fe6e60ba82d2e07af90ce7c2a0375"
    }
   }
  }
 },
 "nbformat": 4,
 "nbformat_minor": 2,
 "cells": [
  {
   "cell_type": "code",
   "execution_count": 1,
   "metadata": {},
   "outputs": [],
   "source": [
    "import pandas as pd\n",
    "from pandas_profiling import ProfileReport\n",
    "import numpy as np\n",
    "import os\n",
    "import logging\n",
    "\n",
    "def norm_csv_read():\n",
    "\n",
    "        \"\"\" Reading normalized CSV and creating algorithm to get a random parameters recipe and random lot number\n",
    "    \n",
    "        Parameters\n",
    "        ----------\n",
    "        No parameters\n",
    "\n",
    "        Returns:\n",
    "        ----------\n",
    "        No returns, output a file to hardcoded path\n",
    "        \"\"\"\n",
    "\n"
   ]
  },
  {
   "cell_type": "code",
   "execution_count": 14,
   "metadata": {},
   "outputs": [
    {
     "output_type": "stream",
     "name": "stderr",
     "text": [
      "WARNING:root:c:\\Users\\BC966HL\\OneDrive - EY\\4. Mestrado\\Dev\n",
      "WARNING:root:File read successfully\n",
      "WARNING:root:.\n"
     ]
    }
   ],
   "source": [
    "#os.chdir('..')\n",
    "logging.warning(os.getcwd())\n",
    "df_norm = pd.read_csv('Datasets/cleaned_cqi_file.csv', sep = ';')\n",
    "logging.warning('File read successfully')\n",
    "logging.warning('.')"
   ]
  },
  {
   "cell_type": "code",
   "execution_count": 17,
   "metadata": {},
   "outputs": [
    {
     "output_type": "execute_result",
     "data": {
      "text/plain": [
       "     Unnamed: 0  index    ID  SPECIES ORIGIN_COUNTRY  \\\n",
       "0             0      0     1  Arabica       Ethiopia   \n",
       "1             1      1     2  Arabica       Ethiopia   \n",
       "2             2      3     4  Arabica       Ethiopia   \n",
       "3             3      4     5  Arabica       Ethiopia   \n",
       "4             4      5     6  Arabica         Brazil   \n",
       "..          ...    ...   ...      ...            ...   \n",
       "858         858   1314  1307  Arabica         Mexico   \n",
       "859         859   1315  1308  Arabica          Haiti   \n",
       "860         860   1316  1309  Arabica      Nicaragua   \n",
       "861         861   1317  1310  Arabica      Guatemala   \n",
       "862         862   1318  1312  Arabica       Honduras   \n",
       "\n",
       "                     LOT_NUMBER   ALTITUDE ALTITUDE_UOM_NN  AROMA  FLAVOR  \\\n",
       "0                           NaN  1950-2200               m   8.67    8.83   \n",
       "1                           NaN  1950-2200               m   8.75    8.67   \n",
       "2                           NaN  1800-2200               m   8.17    8.58   \n",
       "3                           NaN  1950-2200               m   8.25    8.50   \n",
       "4                           NaN        NaN               m   8.58    8.42   \n",
       "..                          ...        ...             ...    ...     ...   \n",
       "858                         NaN        900               m   7.08    6.83   \n",
       "859                         NaN      ~350m               m   6.75    6.58   \n",
       "860  017-053-0211/ 017-053-0212       1100               m   7.25    6.58   \n",
       "861                         NaN       4650              ft   7.50    6.67   \n",
       "862                         103       1400               m   0.00    0.00   \n",
       "\n",
       "     ...  BODY  BALANCE  UNIFORMITY  CLEAN_CUP  SWEETNESS  CUPPER_POINTS  \\\n",
       "0    ...  8.50     8.42       10.00      10.00      10.00           8.75   \n",
       "1    ...  8.42     8.42       10.00      10.00      10.00           8.58   \n",
       "2    ...  8.50     8.25       10.00      10.00      10.00           8.67   \n",
       "3    ...  8.42     8.33       10.00      10.00      10.00           8.58   \n",
       "4    ...  8.25     8.33       10.00      10.00      10.00           8.33   \n",
       "..   ...   ...      ...         ...        ...        ...            ...   \n",
       "858  ...  7.25     6.75       10.00       0.00      10.00           6.75   \n",
       "859  ...  7.08     6.67        9.33       6.00       6.00           6.42   \n",
       "860  ...  6.42     6.08        6.00       6.00       6.00           6.17   \n",
       "861  ...  7.33     6.67        8.00       1.33       1.33           6.67   \n",
       "862  ...  0.00     0.00        0.00       0.00       0.00           0.00   \n",
       "\n",
       "     MOISTURE  CATEGORY_ONE_DEFECTS         COLOR  LOT_AVAILABILITY_KG  \n",
       "0        0.12                   0.0         Green              18000.0  \n",
       "1        0.12                   0.0         Green              18000.0  \n",
       "2        0.11                   0.0         Green              19200.0  \n",
       "3        0.12                   0.0         Green              18000.0  \n",
       "4        0.11                   0.0  Bluish-Green               3000.0  \n",
       "..        ...                   ...           ...                  ...  \n",
       "858      0.11                   0.0          None                 12.0  \n",
       "859      0.14                   8.0    Blue-Green                  2.0  \n",
       "860      0.13                   1.0         Green              37950.0  \n",
       "861      0.10                   0.0         Green                275.0  \n",
       "862      0.12                   0.0         Green              18975.0  \n",
       "\n",
       "[863 rows x 22 columns]"
      ],
      "text/html": "<div>\n<style scoped>\n    .dataframe tbody tr th:only-of-type {\n        vertical-align: middle;\n    }\n\n    .dataframe tbody tr th {\n        vertical-align: top;\n    }\n\n    .dataframe thead th {\n        text-align: right;\n    }\n</style>\n<table border=\"1\" class=\"dataframe\">\n  <thead>\n    <tr style=\"text-align: right;\">\n      <th></th>\n      <th>Unnamed: 0</th>\n      <th>index</th>\n      <th>ID</th>\n      <th>SPECIES</th>\n      <th>ORIGIN_COUNTRY</th>\n      <th>LOT_NUMBER</th>\n      <th>ALTITUDE</th>\n      <th>ALTITUDE_UOM_NN</th>\n      <th>AROMA</th>\n      <th>FLAVOR</th>\n      <th>...</th>\n      <th>BODY</th>\n      <th>BALANCE</th>\n      <th>UNIFORMITY</th>\n      <th>CLEAN_CUP</th>\n      <th>SWEETNESS</th>\n      <th>CUPPER_POINTS</th>\n      <th>MOISTURE</th>\n      <th>CATEGORY_ONE_DEFECTS</th>\n      <th>COLOR</th>\n      <th>LOT_AVAILABILITY_KG</th>\n    </tr>\n  </thead>\n  <tbody>\n    <tr>\n      <th>0</th>\n      <td>0</td>\n      <td>0</td>\n      <td>1</td>\n      <td>Arabica</td>\n      <td>Ethiopia</td>\n      <td>NaN</td>\n      <td>1950-2200</td>\n      <td>m</td>\n      <td>8.67</td>\n      <td>8.83</td>\n      <td>...</td>\n      <td>8.50</td>\n      <td>8.42</td>\n      <td>10.00</td>\n      <td>10.00</td>\n      <td>10.00</td>\n      <td>8.75</td>\n      <td>0.12</td>\n      <td>0.0</td>\n      <td>Green</td>\n      <td>18000.0</td>\n    </tr>\n    <tr>\n      <th>1</th>\n      <td>1</td>\n      <td>1</td>\n      <td>2</td>\n      <td>Arabica</td>\n      <td>Ethiopia</td>\n      <td>NaN</td>\n      <td>1950-2200</td>\n      <td>m</td>\n      <td>8.75</td>\n      <td>8.67</td>\n      <td>...</td>\n      <td>8.42</td>\n      <td>8.42</td>\n      <td>10.00</td>\n      <td>10.00</td>\n      <td>10.00</td>\n      <td>8.58</td>\n      <td>0.12</td>\n      <td>0.0</td>\n      <td>Green</td>\n      <td>18000.0</td>\n    </tr>\n    <tr>\n      <th>2</th>\n      <td>2</td>\n      <td>3</td>\n      <td>4</td>\n      <td>Arabica</td>\n      <td>Ethiopia</td>\n      <td>NaN</td>\n      <td>1800-2200</td>\n      <td>m</td>\n      <td>8.17</td>\n      <td>8.58</td>\n      <td>...</td>\n      <td>8.50</td>\n      <td>8.25</td>\n      <td>10.00</td>\n      <td>10.00</td>\n      <td>10.00</td>\n      <td>8.67</td>\n      <td>0.11</td>\n      <td>0.0</td>\n      <td>Green</td>\n      <td>19200.0</td>\n    </tr>\n    <tr>\n      <th>3</th>\n      <td>3</td>\n      <td>4</td>\n      <td>5</td>\n      <td>Arabica</td>\n      <td>Ethiopia</td>\n      <td>NaN</td>\n      <td>1950-2200</td>\n      <td>m</td>\n      <td>8.25</td>\n      <td>8.50</td>\n      <td>...</td>\n      <td>8.42</td>\n      <td>8.33</td>\n      <td>10.00</td>\n      <td>10.00</td>\n      <td>10.00</td>\n      <td>8.58</td>\n      <td>0.12</td>\n      <td>0.0</td>\n      <td>Green</td>\n      <td>18000.0</td>\n    </tr>\n    <tr>\n      <th>4</th>\n      <td>4</td>\n      <td>5</td>\n      <td>6</td>\n      <td>Arabica</td>\n      <td>Brazil</td>\n      <td>NaN</td>\n      <td>NaN</td>\n      <td>m</td>\n      <td>8.58</td>\n      <td>8.42</td>\n      <td>...</td>\n      <td>8.25</td>\n      <td>8.33</td>\n      <td>10.00</td>\n      <td>10.00</td>\n      <td>10.00</td>\n      <td>8.33</td>\n      <td>0.11</td>\n      <td>0.0</td>\n      <td>Bluish-Green</td>\n      <td>3000.0</td>\n    </tr>\n    <tr>\n      <th>...</th>\n      <td>...</td>\n      <td>...</td>\n      <td>...</td>\n      <td>...</td>\n      <td>...</td>\n      <td>...</td>\n      <td>...</td>\n      <td>...</td>\n      <td>...</td>\n      <td>...</td>\n      <td>...</td>\n      <td>...</td>\n      <td>...</td>\n      <td>...</td>\n      <td>...</td>\n      <td>...</td>\n      <td>...</td>\n      <td>...</td>\n      <td>...</td>\n      <td>...</td>\n      <td>...</td>\n    </tr>\n    <tr>\n      <th>858</th>\n      <td>858</td>\n      <td>1314</td>\n      <td>1307</td>\n      <td>Arabica</td>\n      <td>Mexico</td>\n      <td>NaN</td>\n      <td>900</td>\n      <td>m</td>\n      <td>7.08</td>\n      <td>6.83</td>\n      <td>...</td>\n      <td>7.25</td>\n      <td>6.75</td>\n      <td>10.00</td>\n      <td>0.00</td>\n      <td>10.00</td>\n      <td>6.75</td>\n      <td>0.11</td>\n      <td>0.0</td>\n      <td>None</td>\n      <td>12.0</td>\n    </tr>\n    <tr>\n      <th>859</th>\n      <td>859</td>\n      <td>1315</td>\n      <td>1308</td>\n      <td>Arabica</td>\n      <td>Haiti</td>\n      <td>NaN</td>\n      <td>~350m</td>\n      <td>m</td>\n      <td>6.75</td>\n      <td>6.58</td>\n      <td>...</td>\n      <td>7.08</td>\n      <td>6.67</td>\n      <td>9.33</td>\n      <td>6.00</td>\n      <td>6.00</td>\n      <td>6.42</td>\n      <td>0.14</td>\n      <td>8.0</td>\n      <td>Blue-Green</td>\n      <td>2.0</td>\n    </tr>\n    <tr>\n      <th>860</th>\n      <td>860</td>\n      <td>1316</td>\n      <td>1309</td>\n      <td>Arabica</td>\n      <td>Nicaragua</td>\n      <td>017-053-0211/ 017-053-0212</td>\n      <td>1100</td>\n      <td>m</td>\n      <td>7.25</td>\n      <td>6.58</td>\n      <td>...</td>\n      <td>6.42</td>\n      <td>6.08</td>\n      <td>6.00</td>\n      <td>6.00</td>\n      <td>6.00</td>\n      <td>6.17</td>\n      <td>0.13</td>\n      <td>1.0</td>\n      <td>Green</td>\n      <td>37950.0</td>\n    </tr>\n    <tr>\n      <th>861</th>\n      <td>861</td>\n      <td>1317</td>\n      <td>1310</td>\n      <td>Arabica</td>\n      <td>Guatemala</td>\n      <td>NaN</td>\n      <td>4650</td>\n      <td>ft</td>\n      <td>7.50</td>\n      <td>6.67</td>\n      <td>...</td>\n      <td>7.33</td>\n      <td>6.67</td>\n      <td>8.00</td>\n      <td>1.33</td>\n      <td>1.33</td>\n      <td>6.67</td>\n      <td>0.10</td>\n      <td>0.0</td>\n      <td>Green</td>\n      <td>275.0</td>\n    </tr>\n    <tr>\n      <th>862</th>\n      <td>862</td>\n      <td>1318</td>\n      <td>1312</td>\n      <td>Arabica</td>\n      <td>Honduras</td>\n      <td>103</td>\n      <td>1400</td>\n      <td>m</td>\n      <td>0.00</td>\n      <td>0.00</td>\n      <td>...</td>\n      <td>0.00</td>\n      <td>0.00</td>\n      <td>0.00</td>\n      <td>0.00</td>\n      <td>0.00</td>\n      <td>0.00</td>\n      <td>0.12</td>\n      <td>0.0</td>\n      <td>Green</td>\n      <td>18975.0</td>\n    </tr>\n  </tbody>\n</table>\n<p>863 rows × 22 columns</p>\n</div>"
     },
     "metadata": {},
     "execution_count": 17
    }
   ],
   "source": [
    "df_norm"
   ]
  }
 ]
}