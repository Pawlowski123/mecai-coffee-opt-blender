{
 "metadata": {
  "language_info": {
   "codemirror_mode": {
    "name": "ipython",
    "version": 3
   },
   "file_extension": ".py",
   "mimetype": "text/x-python",
   "name": "python",
   "nbconvert_exporter": "python",
   "pygments_lexer": "ipython3",
   "version": "3.7.6-final"
  },
  "orig_nbformat": 2,
  "kernelspec": {
   "name": "Python 3.7.6 64-bit ('base': conda)",
   "display_name": "Python 3.7.6 64-bit ('base': conda)",
   "metadata": {
    "interpreter": {
     "hash": "80629b01526bf2541e72cdde0acf25d4762fe6e60ba82d2e07af90ce7c2a0375"
    }
   }
  }
 },
 "nbformat": 4,
 "nbformat_minor": 2,
 "cells": [
  {
   "cell_type": "code",
   "execution_count": 30,
   "metadata": {},
   "outputs": [],
   "source": [
    "import pandas as pd\n",
    "from pandas_profiling import ProfileReport\n",
    "import numpy as np\n",
    "import os\n",
    "import logging"
   ]
  },
  {
   "cell_type": "code",
   "execution_count": 31,
   "metadata": {},
   "outputs": [
    {
     "output_type": "execute_result",
     "data": {
      "text/plain": [
       "'c:\\\\Users\\\\BC966HL\\\\OneDrive - EY\\\\4. Mestrado\\\\Dev'"
      ]
     },
     "metadata": {},
     "execution_count": 31
    }
   ],
   "source": [
    "#os.chdir('..')\n",
    "os.getcwd()"
   ]
  },
  {
   "cell_type": "code",
   "execution_count": 38,
   "metadata": {},
   "outputs": [],
   "source": [
    "def recipe_def():\n",
    "    \"\"\" Reading dataframe with coffee sample metadata and getting random recipe to be the model goal\n",
    "\n",
    "    Parameters\n",
    "    ----------\n",
    "    df_norm_cost: pandas dataframe with coffee sample metadata obtained from create_cost_column function\n",
    "    lot_limit: number of rows it should be obtained from original dataframe to consider as lot input\n",
    "\n",
    "    Returns:\n",
    "    ----------\n",
    "    df_recipe: Pandas dataframe with one row, the model metadata reference, LOT_AVAILABILITY_KG = -1, it will be simulated later\n",
    "    df_norm: Pandas dataframe with df_recipe row removed\n",
    "    \"\"\"\n",
    "\n",
    "    logging.warning(os.getcwd())\n",
    "    df_norm = pd.read_csv('Datasets/etl/cleaned_cqi_file.csv', sep = ';')\n",
    "    logging.warning('File read successfully')\n",
    "    logging.warning('.')\n",
    "\n",
    "    # Creating df_recipe dataframe, it will be used as the model goal on the parameters\n",
    "    recipe_random = list(np.random.randint(low = 0, high = len(df_norm), size = 1))\n",
    "    df_recipe = df_norm.iloc[recipe_random]\n",
    "    df_norm = df_norm.drop(axis = 0, index = recipe_random)\n",
    "    logging.warning('Recipe dataframe and df_norm with recipe row removed created successfully')\n",
    "    df_recipe['LOT_AVAILABILITY_KG'] = -1\n",
    "\n",
    "    return df_recipe, df_norm"
   ]
  },
  {
   "cell_type": "code",
   "execution_count": 33,
   "metadata": {},
   "outputs": [],
   "source": [
    "def create_cost_column(df_norm, cost_min = 5, cost_max = 50):\n",
    "    \"\"\" Reading normalized CSV and creating algorithm to get a random parameters recipe and random lot number\n",
    "\n",
    "    Parameters\n",
    "    ----------\n",
    "    df_norm: pandas dataframe with recipe row removed from normalized csv data\n",
    "    cost_min: random minimum cost in BRL/kg\n",
    "    cost_max: random maximum cost in BRL/kg\n",
    "\n",
    "    Returns:\n",
    "    ----------\n",
    "    Pandas dataframe with coffee sample metadata and random parametrized cost (BRL/kg) column\n",
    "    \"\"\"\n",
    "\n",
    "    df_norm['COST_BRL_KG'] = np.random.uniform(cost_min, cost_max, size = len(df_norm))\n",
    "    logging.warning('Random cost column created with range: %.0f and %.0f', cost_min, cost_max)\n",
    "    logging.warning('.')\n",
    "\n",
    "    return df_norm"
   ]
  },
  {
   "cell_type": "code",
   "execution_count": 53,
   "metadata": {},
   "outputs": [],
   "source": [
    "def input_lots(df_norm_cost, lot_limit = 10, return_df_norm_wout_lots = False):\n",
    "    \"\"\" Reading dataframe with coffee sample metadata and random parametrized cost (BRL/kg) and creating model-input lot availability\n",
    "\n",
    "    Parameters\n",
    "    ----------\n",
    "    df_norm_cost: pandas dataframe with coffee sample metadata obtained from create_cost_column function\n",
    "    lot_limit: number of rows it should be obtained from original dataframe to consider as lot input\n",
    "\n",
    "    Returns:\n",
    "    ----------\n",
    "    df_lot_input: Pandas dataframe with coffee sample metadata with lot_limit number of rows\n",
    "    df_norm: Original Pandas dataframe with df_lot_input rows removed\n",
    "    \"\"\"\n",
    "\n",
    "    # Creating random list with size lot_limit as parameter and range inside the df_norm_cost number of rows\n",
    "    rows_lot_limit = list(np.random.randint(low = 0, high = len(df_norm_cost), size = lot_limit))\n",
    "    df_lots_available = df_norm_cost.iloc[rows_lot_limit]\n",
    "    df_norm_wout_lots_available = df_norm_cost.drop(axis = 0, index = rows_lot_limit)\n",
    "    logging.warning('Datasets with %.0f lots metadata and df_norm_cost removing input lot successfully created', lot_limit)\n",
    "\n",
    "    if return_df_norm_wout_lots == True:\n",
    "        return df_lots_available, df_norm_wout_lots_available\n",
    "    else:\n",
    "        return df_lots_available"
   ]
  },
  {
   "cell_type": "code",
   "execution_count": 54,
   "metadata": {},
   "outputs": [],
   "source": [
    "def target_volume(df_recipe, df_lots_available, simulate_broken_volume = False, low_perc = 0.2, high_perc = 0.8, broken_volume_perc = 1.5):\n",
    "    \"\"\" Reading df_recipe to re-calculate possible volume to be achieved on LOT_AVAILABILITY_KG field\n",
    "\n",
    "    Parameters\n",
    "    ----------\n",
    "    df_recipe: Pandas dataframe with one row, the model metadata reference\n",
    "    df_lots_available: Pandas dataframe with coffee sample metadata with lot_limit number of rows\n",
    "    simulate_broken_volume: boolean variable to define, when set to True, if the volume should be higher than the input lots availability, default: False\n",
    "    Returns:\n",
    "    ----------\n",
    "    df_lot_input: Pandas dataframe with coffee sample metadata with lot_limit number of rows\n",
    "    df_norm: Original Pandas dataframe with df_lot_input rows removed\n",
    "    \"\"\"\n",
    "    \n",
    "    input_total_volume = int(df_lots_available['LOT_AVAILABILITY_KG'].sum())\n",
    "    df_recipe = df_recipe.rename(columns = {'LOT_AVAILABILITY_KG': 'VOLUME_NEED'})\n",
    "    logging.warning('Dataset with Broken volume set as %s, low_perc set as %.1f and high_perc set as %.1f was successfully created', simulate_broken_volume, low_perc, high_perc)\n",
    "    \n",
    "    if simulate_broken_volume == False:\n",
    "        df_recipe['VOLUME_NEED'] = np.random.randint(low = low_perc*input_total_volume, high = high_perc*input_total_volume, size = 1)\n",
    "    else:\n",
    "        df_recipe['VOLUME_NEED'] = np.random.randint(low = input_total_volume, high = broken_volume_perc*input_total_volume, size = 1)\n",
    "\n",
    "    return df_recipe"
   ]
  },
  {
   "cell_type": "code",
   "execution_count": 57,
   "metadata": {},
   "outputs": [],
   "source": [
    "def model_files(df_recipe, df_lots_available):\n",
    "    \"\"\" Exporting CSV df_recipe after volume calculation and df_lot_input to Datasets/model\n",
    "\n",
    "    Parameters\n",
    "    ----------\n",
    "    df_recipe: Pandas dataframe with one row, the model metadata reference\n",
    "    df_lots_available: Pandas dataframe with coffee sample metadata with lot_limit number of rows\n",
    "    \n",
    "    Returns:\n",
    "    ----------\n",
    "    Does not return, export CSV file\n",
    "    \"\"\"\n",
    "    \n",
    "    # Exporting CSV files which will be used as inputs to the model\n",
    "    logging.warning('.')\n",
    "    logging.warning('.')\n",
    "    logging.warning('.')\n",
    "    df_recipe.to_csv('Datasets/model/input_recipe.csv', sep = ';')\n",
    "    logging.warning('input_recipe.csv was successfully exported to Datasets/model/')\n",
    "    df_lots_available.to_csv('Datasets/model/input_lots_available.csv', sep = ';')\n",
    "    logging.warning('input_lots_available.csv was successfully exported to Datasets/model/')"
   ]
  },
  {
   "cell_type": "code",
   "execution_count": 58,
   "metadata": {},
   "outputs": [
    {
     "output_type": "stream",
     "name": "stderr",
     "text": [
      "WARNING:root:c:\\Users\\BC966HL\\OneDrive - EY\\4. Mestrado\\Dev\n",
      "WARNING:root:File read successfully\n",
      "WARNING:root:.\n",
      "WARNING:root:Recipe dataframe and df_norm with recipe row removed created successfully\n",
      "WARNING:root:Cost random column created with range: 5 and 50\n",
      "WARNING:root:.\n",
      "WARNING:root:Datasets with 10 lots metadata and df_norm_cost removing input lot successfully created\n",
      "WARNING:root:Dataset with Broken volume set as False, low_perc set as 0.2 and high_perc set as 0.8 was successfully created\n",
      "WARNING:root:.\n",
      "WARNING:root:.\n",
      "WARNING:root:.\n",
      "WARNING:root:input_recipe.csv was successfully exported to Datasets/model/\n",
      "WARNING:root:input_lots_available.csv was successfully exported to Datasets/model/\n"
     ]
    }
   ],
   "source": [
    "df_recipe, df_norm = recipe_def()\n",
    "df_norm_cost = create_cost_column(df_norm)\n",
    "df_lots_available = input_lots(df_norm_cost, return_df_norm_wout_lots = False)\n",
    "df_recipe_volume = target_volume(df_recipe, df_lots_available, simulate_broken_volume = False)\n",
    "model_files(df_recipe_volume, df_lots_available)"
   ]
  }
 ]
}