{
 "cells": [
  {
   "cell_type": "code",
   "execution_count": 1,
   "metadata": {},
   "outputs": [],
   "source": [
    "#import pandas as pd\n",
    "#from pandas_profiling import ProfileReport\n",
    "#import numpy as np\n",
    "#import os\n",
    "#import logging"
   ]
  },
  {
   "cell_type": "code",
   "execution_count": 2,
   "metadata": {},
   "outputs": [
    {
     "output_type": "execute_result",
     "data": {
      "text/plain": [
       "'c:\\\\Users\\\\BC966HL\\\\OneDrive - EY\\\\4. Mestrado\\\\Dev\\\\Datasets'"
      ]
     },
     "metadata": {},
     "execution_count": 2
    }
   ],
   "source": [
    "#os.chdir('..')\n",
    "#os.chdir('Datasets/')\n",
    "logging.warning(os.getcwd())"
   ]
  },
  {
   "cell_type": "code",
   "execution_count": 2,
   "metadata": {},
   "outputs": [
    {
     "output_type": "error",
     "ename": "NameError",
     "evalue": "name 'pd' is not defined",
     "traceback": [
      "\u001b[1;31m---------------------------------------------------------------------------\u001b[0m",
      "\u001b[1;31mNameError\u001b[0m                                 Traceback (most recent call last)",
      "\u001b[1;32m<ipython-input-2-e4dd363fbda8>\u001b[0m in \u001b[0;36m<module>\u001b[1;34m\u001b[0m\n\u001b[1;32m----> 1\u001b[1;33m \u001b[0mdf_raw\u001b[0m \u001b[1;33m=\u001b[0m \u001b[0mpd\u001b[0m\u001b[1;33m.\u001b[0m\u001b[0mread_csv\u001b[0m\u001b[1;33m(\u001b[0m\u001b[1;34m'\\Datasets\\Coffee-quality-institute.csv'\u001b[0m\u001b[1;33m)\u001b[0m\u001b[1;33m\u001b[0m\u001b[1;33m\u001b[0m\u001b[0m\n\u001b[0m\u001b[0;32m      2\u001b[0m \u001b[0mdf_raw\u001b[0m\u001b[1;33m.\u001b[0m\u001b[0mcolumns\u001b[0m\u001b[1;33m\u001b[0m\u001b[1;33m\u001b[0m\u001b[0m\n\u001b[0;32m      3\u001b[0m \u001b[0mdf_raw\u001b[0m \u001b[1;33m=\u001b[0m \u001b[0mdf_raw\u001b[0m\u001b[1;33m[\u001b[0m\u001b[1;33m[\u001b[0m\u001b[1;34m'ID'\u001b[0m\u001b[1;33m,\u001b[0m \u001b[1;34m'Species'\u001b[0m\u001b[1;33m,\u001b[0m \u001b[1;34m'Country.of.Origin'\u001b[0m\u001b[1;33m,\u001b[0m \u001b[1;34m'Lot.Number'\u001b[0m\u001b[1;33m,\u001b[0m \u001b[1;34m'Altitude'\u001b[0m\u001b[1;33m,\u001b[0m \u001b[1;34m'unit_of_measurement'\u001b[0m\u001b[1;33m,\u001b[0m \u001b[1;34m'Number.of.Bags'\u001b[0m\u001b[1;33m,\u001b[0m \u001b[1;34m'Bag.Weight'\u001b[0m\u001b[1;33m,\u001b[0m \u001b[1;34m'Aroma'\u001b[0m\u001b[1;33m,\u001b[0m \u001b[1;34m'Flavor'\u001b[0m\u001b[1;33m,\u001b[0m \u001b[1;34m'Aftertaste'\u001b[0m\u001b[1;33m,\u001b[0m \u001b[1;34m'Acidity'\u001b[0m\u001b[1;33m,\u001b[0m \u001b[1;34m'Body'\u001b[0m\u001b[1;33m,\u001b[0m \u001b[1;34m'Balance'\u001b[0m\u001b[1;33m,\u001b[0m \u001b[1;34m'Uniformity'\u001b[0m\u001b[1;33m,\u001b[0m \u001b[1;34m'Clean.Cup'\u001b[0m\u001b[1;33m,\u001b[0m \u001b[1;34m'Sweetness'\u001b[0m\u001b[1;33m,\u001b[0m \u001b[1;34m'Cupper.Points'\u001b[0m\u001b[1;33m,\u001b[0m \u001b[1;34m'Moisture'\u001b[0m\u001b[1;33m,\u001b[0m \u001b[1;34m'Category.One.Defects'\u001b[0m\u001b[1;33m,\u001b[0m \u001b[1;34m'Color'\u001b[0m\u001b[1;33m]\u001b[0m\u001b[1;33m]\u001b[0m\u001b[1;33m\u001b[0m\u001b[1;33m\u001b[0m\u001b[0m\n\u001b[0;32m      4\u001b[0m \u001b[1;33m\u001b[0m\u001b[0m\n\u001b[0;32m      5\u001b[0m \u001b[0mlogging\u001b[0m\u001b[1;33m.\u001b[0m\u001b[0mwarning\u001b[0m\u001b[1;33m(\u001b[0m\u001b[1;34m'CSV File read successfully\\n'\u001b[0m\u001b[1;33m)\u001b[0m\u001b[1;33m\u001b[0m\u001b[1;33m\u001b[0m\u001b[0m\n",
      "\u001b[1;31mNameError\u001b[0m: name 'pd' is not defined"
     ]
    }
   ],
   "source": [
    "df_raw = pd.read_csv('Datasets/Coffee-quality-institute.csv')\n",
    "df_raw.columns\n",
    "df_raw = df_raw[['ID', 'Species', 'Country.of.Origin', 'Lot.Number', 'Altitude', 'unit_of_measurement', 'Number.of.Bags', 'Bag.Weight', 'Aroma', 'Flavor', 'Aftertaste', 'Acidity', 'Body', 'Balance', 'Uniformity', 'Clean.Cup', 'Sweetness', 'Cupper.Points', 'Moisture', 'Category.One.Defects', 'Color']]\n",
    "\n",
    "logging.warning('CSV File read successfully\\n')\n",
    "logging.warning('.')\n",
    "\n",
    "# Renaming columns according to friendly labels\n",
    "df_renamed = df_raw.rename(columns={'Country.of.Origin': 'ORIGIN_COUNTRY',\n",
    "                                    'Species': 'SPECIES',\n",
    "                                    'Lot.Number': 'LOT_NUMBER',\n",
    "                                    'Altitude': 'ALTITUDE',\n",
    "                                    'unit_of_measurement': 'ALTITUDE_UOM_NN',\n",
    "                                    'Number.of.Bags': 'BAG_AVAILABILITY',\n",
    "                                    'Bag.Weight': 'BAG_WEIGHT_NN',\n",
    "                                    'Aroma': 'AROMA',\n",
    "                                    'Flavor': 'FLAVOR',\n",
    "                                    'Aftertaste': 'AFTERTASTE',\n",
    "                                    'Acidity': 'ACIDITY',\n",
    "                                    'Body': 'BODY',\n",
    "                                    'Balance': 'BALANCE',\n",
    "                                    'Uniformity': 'UNIFORMITY',\n",
    "                                    'Clean.Cup': 'CLEAN_CUP',\n",
    "                                    'Sweetness': 'SWEETNESS',\n",
    "                                    'Cupper.Points': 'CUPPER_POINTS',\n",
    "                                    'Moisture': 'MOISTURE',\n",
    "                                    'Category.One.Defects': 'CATEGORY_ONE_DEFECTS',\n",
    "                                    'Color': 'COLOR'\n",
    "                                    }\n",
    "                            )"
   ]
  },
  {
   "cell_type": "code",
   "execution_count": 4,
   "metadata": {},
   "outputs": [],
   "source": [
    "# Applying columns definition according to model needs\n",
    "df_treated = df_renamed[(df_renamed['ID'].notnull()) &\n",
    "                        (df_renamed['SPECIES'] == 'Arabica') &\n",
    "                        (df_renamed['BAG_AVAILABILITY'].notnull()) &\n",
    "                        (df_renamed['BAG_WEIGHT_NN'].notnull()) &\n",
    "                        (df_renamed['AROMA'].notnull()) &\n",
    "                        (df_renamed['FLAVOR'].notnull()) &\n",
    "                        (df_renamed['AFTERTASTE'].notnull()) &\n",
    "                        (df_renamed['ACIDITY'].notnull()) &\n",
    "                        (df_renamed['BODY'].notnull()) &\n",
    "                        (df_renamed['BALANCE'].notnull()) &\n",
    "                        (df_renamed['UNIFORMITY'].notnull()) &\n",
    "                        (df_renamed['CLEAN_CUP'].notnull()) &\n",
    "                        (df_renamed['SWEETNESS'].notnull()) &\n",
    "                        (df_renamed['CUPPER_POINTS'].notnull()) &\n",
    "                        (df_renamed['MOISTURE'].notnull()) &\n",
    "                        (df_renamed['CATEGORY_ONE_DEFECTS'].notnull()) &\n",
    "                        (df_renamed['COLOR'].notnull())\n",
    "                       ]\n",
    "\n",
    "df_treated[['BAG_WEIGHT_NN_VALUE', 'BAG_WEIGHT_NN_UNIT']] = df_treated['BAG_WEIGHT_NN'].str.split(' ', expand = True)\n",
    "df_treated = df_treated.drop(columns = ['BAG_WEIGHT_NN'])\n",
    "\n",
    "# Creating dummy BAG_WEIGHT_KG column to work on .loc next\n",
    "df_treated['BAG_WEIGHT_KG'] = np.NaN"
   ]
  },
  {
   "cell_type": "code",
   "execution_count": 5,
   "metadata": {},
   "outputs": [],
   "source": [
    "# Normalizing BAG_AVAILABILITY\n",
    "# Columns in which the unit is kg, gets the kg value\n",
    "df_treated.loc[(df_treated['BAG_WEIGHT_NN_UNIT'] == 'kg'),['BAG_WEIGHT_KG']] = df_treated.loc[(df_treated['BAG_WEIGHT_NN_UNIT'] == 'kg')]['BAG_WEIGHT_NN_VALUE']\n",
    "\n",
    "# Columns in which the unit is lbs, gets the kg value times 0.4536 in order to convert it from lbs to kg\n",
    "df_treated.loc[(df_treated['BAG_WEIGHT_NN_UNIT'] == 'lbs')]['BAG_WEIGHT_KG'] = df_treated[(df_treated['BAG_WEIGHT_NN_UNIT'] == 'lbs')]['BAG_WEIGHT_NN_VALUE'].astype(int)*0.4535\n",
    "\n",
    "# Columns with unit different from kg or lbs gets NaN in order to be removed\n",
    "df_treated.loc[(df_treated['BAG_WEIGHT_NN_UNIT'] != 'kg') & (df_treated['BAG_WEIGHT_NN_UNIT'] != 'lbs'), ['BAG_WEIGHT_KG']] = np.NaN\n",
    "\n",
    "# After normalizing the bag UoM, creating LOT_AVAILABILITY_KG to get the row availability in quilograms\n",
    "df_treated['LOT_AVAILABILITY_KG'] = df_treated['BAG_WEIGHT_KG'].astype(float)*df_treated['BAG_AVAILABILITY'].astype(float)\n",
    "df_treated = df_treated.drop(columns = ['BAG_WEIGHT_KG', 'BAG_AVAILABILITY', 'BAG_WEIGHT_NN_VALUE', 'BAG_WEIGHT_NN_UNIT'])\n",
    "\n"
   ]
  },
  {
   "cell_type": "code",
   "execution_count": 6,
   "metadata": {},
   "outputs": [],
   "source": [
    "df_treated = df_treated.astype({'ID': int,\n",
    "                                'SPECIES': str,\n",
    "                                'ORIGIN_COUNTRY': str,\n",
    "                                'LOT_NUMBER': str,\n",
    "                                'ALTITUDE': str,\n",
    "                                'ALTITUDE_UOM_NN': str,\n",
    "                                'AROMA': float,\n",
    "                                'FLAVOR': float,\n",
    "                                'AFTERTASTE': float,\n",
    "                                'ACIDITY': float,\n",
    "                                'BODY': float,\n",
    "                                'BALANCE': float,\n",
    "                                'UNIFORMITY': float,\n",
    "                                'CLEAN_CUP': float,\n",
    "                                'SWEETNESS': float,\n",
    "                                'CUPPER_POINTS': float,\n",
    "                                'MOISTURE': float,\n",
    "                                'CATEGORY_ONE_DEFECTS': float,\n",
    "                                'COLOR': str,\n",
    "                                'LOT_AVAILABILITY_KG': float\n",
    "                                })\n",
    "\n",
    "df_opt = df_treated[(df_treated['LOT_AVAILABILITY_KG'].notnull()) &\n",
    "                    (df_treated['MOISTURE'] != 0)\n",
    "                   ].reset_index()"
   ]
  },
  {
   "cell_type": "code",
   "execution_count": 7,
   "metadata": {},
   "outputs": [
    {
     "output_type": "execute_result",
     "data": {
      "text/plain": [
       "'c:\\\\Users\\\\BC966HL\\\\OneDrive - EY\\\\4. Mestrado\\\\Dev\\\\Datasets'"
      ]
     },
     "metadata": {},
     "execution_count": 7
    }
   ],
   "source": [
    "#os.chdir('/Users/BC966HL/Desktop')\n",
    "#os.chdir('C:/Users/BC966HL/OneDrive - EY/4. Mestrado/Dev/Datasets')\n",
    "os.getcwd()"
   ]
  },
  {
   "cell_type": "code",
   "execution_count": 8,
   "metadata": {},
   "outputs": [
    {
     "output_type": "stream",
     "name": "stderr",
     "text": [
      "WARNING:root:.\n",
      "WARNING:root:..\n",
      "WARNING:root:...\n",
      "WARNING:root:....\n",
      "WARNING:root:.....\n",
      "WARNING:root:......\n",
      "WARNING:root:Cleaned CSV file exported to path successfully\n"
     ]
    }
   ],
   "source": [
    "df_opt.to_csv('etl/cleaned_cqi_file.csv', sep = ';')\n",
    "\n",
    "logging.warning('Cleaned CSV file exported to path successfully')"
   ]
  },
  {
   "cell_type": "code",
   "execution_count": 9,
   "metadata": {},
   "outputs": [],
   "source": [
    "#ProfileReport(df_opt, title = 'Raw Profiling')"
   ]
  }
 ],
 "metadata": {
  "kernelspec": {
   "display_name": "Python 3",
   "language": "python",
   "name": "python3"
  },
  "language_info": {
   "codemirror_mode": {
    "name": "ipython",
    "version": 3
   },
   "file_extension": ".py",
   "mimetype": "text/x-python",
   "name": "python",
   "nbconvert_exporter": "python",
   "pygments_lexer": "ipython3",
   "version": "3.7.6-final"
  }
 },
 "nbformat": 4,
 "nbformat_minor": 4
}