{
 "metadata": {
  "language_info": {
   "codemirror_mode": {
    "name": "ipython",
    "version": 3
   },
   "file_extension": ".py",
   "mimetype": "text/x-python",
   "name": "python",
   "nbconvert_exporter": "python",
   "pygments_lexer": "ipython3",
   "version": "3.7.6-final"
  },
  "orig_nbformat": 2,
  "kernelspec": {
   "name": "python3",
   "display_name": "Python 3.7.6 64-bit ('BC966HL': virtualenv)",
   "metadata": {
    "interpreter": {
     "hash": "80629b01526bf2541e72cdde0acf25d4762fe6e60ba82d2e07af90ce7c2a0375"
    }
   }
  }
 },
 "nbformat": 4,
 "nbformat_minor": 2,
 "cells": [
  {
   "cell_type": "code",
   "execution_count": 1,
   "metadata": {},
   "outputs": [],
   "source": [
    "import pandas as pd\n",
    "from pandas_profiling import ProfileReport\n",
    "import numpy as np\n",
    "import os\n",
    "import logging"
   ]
  },
  {
   "cell_type": "code",
   "execution_count": 2,
   "metadata": {},
   "outputs": [
    {
     "output_type": "execute_result",
     "data": {
      "text/plain": [
       "'C:\\\\Users\\\\BC966HL\\\\OneDrive - EY\\\\4. Mestrado\\\\Dev'"
      ]
     },
     "metadata": {},
     "execution_count": 2
    }
   ],
   "source": [
    "#os.chdir('..')\n",
    "os.chdir('C:/Users/BC966HL/OneDrive - EY/4. Mestrado/Dev/')\n",
    "os.getcwd()"
   ]
  },
  {
   "cell_type": "code",
   "execution_count": 3,
   "metadata": {},
   "outputs": [],
   "source": [
    "from Coding.etl.data_normalization import data_norm\n",
    "from Coding.etl.input_parameters import (recipe_def, create_cost_column, input_lots, target_volume, model_files)\n",
    "from Coding.model.minimize import (model_input_read, constraints_bounds, cost_obj_f, minimize_round)"
   ]
  },
  {
   "cell_type": "code",
   "execution_count": 4,
   "metadata": {},
   "outputs": [
    {
     "output_type": "stream",
     "name": "stderr",
     "text": [
      "WARNING:root:C:\\Users\\BC966HL\\OneDrive - EY\\4. Mestrado\\Dev\n",
      "WARNING:root:CSV File read successfully\n",
      "\n",
      "WARNING:root:.\n",
      "WARNING:root:C:\\Users\\BC966HL\\OneDrive - EY\\4. Mestrado\\Dev\n",
      "WARNING:root:.\n",
      "WARNING:root:Cleaned CSV file exported to path successfully\n",
      "WARNING:root:C:\\Users\\BC966HL\\OneDrive - EY\\4. Mestrado\\Dev\n",
      "WARNING:root:File read successfully\n",
      "WARNING:root:.\n",
      "WARNING:root:Recipe dataframe and df_norm with recipe row removed created successfully\n",
      "WARNING:root:Random cost column created with range: 5 and 50\n",
      "WARNING:root:.\n",
      "WARNING:root:Datasets with 10 lots metadata and df_norm_cost removing input lot successfully created\n",
      "WARNING:root:Dataset with Broken volume set as False, low_perc set as 0.2 and high_perc set as 0.8 was successfully created\n",
      "WARNING:root:.\n",
      "WARNING:root:.\n",
      "WARNING:root:.\n",
      "WARNING:root:input_recipe.csv was successfully exported to Datasets/model/\n",
      "WARNING:root:input_lots_available.csv was successfully exported to Datasets/model/\n"
     ]
    }
   ],
   "source": [
    "# Reading CQI CSV file as input, normalizing data and creating cleaned_cqi_file.csv with no-NaN rows and consistent coffee sample parameters\n",
    "data_norm()\n",
    "\n",
    "# recipe_def function to read the cleaned_cqi_file.csv and extract a random row to be used as target for the model. It will return a single row dataframe with unusable LOT_AVAILABILITY_KG field and the normalized dataframe with the selected row removed\n",
    "df_recipe, df_norm = recipe_def()\n",
    "\n",
    "# create_cost_column gets the normalized dataframe without the recipe row and create a random cost per kg in BRL to the lot on the row, the model will seek to minimize this final cost attending to the other parameters\n",
    "df_norm_cost = create_cost_column(df_norm)\n",
    "\n",
    "# input_lots will get the normalized dataframe without the recipe row and with the cost column and extracts from the n available rows a lot_limit (default = 10) sized dataframe which will be used as available lots to the model work on\n",
    "df_lots_available = input_lots(df_norm_cost, return_df_norm_wout_lots = False, lot_limit = 10)\n",
    "\n",
    "# df_recipe_volume simulate the batch volume\n",
    "# if simulate_broken_volume is set to True, it will create a volume higher than the available lots can provide together, reaching from the volume sum to broken_perc*volume sum, the broken_perc is set to 1.5 as default\n",
    "# if is set to False, will get from the lots available volume sum * low_perc to volume sum * high perc, which are set as default to 0.2 and 0.8 respectively\n",
    "df_recipe_volume = target_volume(df_recipe, df_lots_available, simulate_broken_volume = False)\n",
    "\n",
    "# model_files export the recipe and available lots datasets to /Datasets/model as input_recipe.csv and input_lots_available.csv with ';' as CSV separator\n",
    "model_files(df_recipe_volume, df_lots_available)"
   ]
  },
  {
   "cell_type": "code",
   "execution_count": 5,
   "metadata": {},
   "outputs": [
    {
     "output_type": "stream",
     "name": "stderr",
     "text": [
      "WARNING:root:CSV Files read successfully\n",
      "\n",
      "WARNING:root:.\n",
      "WARNING:root:Aroma constraint created successfully\n",
      "\n",
      "WARNING:root:Flavor constraint created successfully\n",
      "\n",
      "WARNING:root:Aftertaste constraint created successfully\n",
      "\n",
      "WARNING:root:Acidity constraint created successfully\n",
      "\n",
      "WARNING:root:Body constraint created successfully\n",
      "\n",
      "WARNING:root:Balance constraint created successfully\n",
      "\n",
      "WARNING:root:Moisture constraint created successfully\n",
      "\n",
      "WARNING:root:Recipe volume constraint created successfully\n",
      "\n"
     ]
    }
   ],
   "source": [
    "df_recipe, df_available_lots = model_input_read()\n",
    "\n",
    "constraints, bnd = constraints_bounds(df_recipe, df_available_lots, ub = 1)\n",
    "\n",
    "model_output = minimize_round(df_recipe, df_available_lots, constraints, bnd)"
   ]
  },
  {
   "cell_type": "code",
   "execution_count": 6,
   "metadata": {},
   "outputs": [],
   "source": [
    "df_model_output = df_available_lots[['LOT_AVAILABILITY_KG']]\n",
    "df_model_output['MODEL_RESULT_ARRAY'] = model_output.x.astype(int)"
   ]
  },
  {
   "cell_type": "code",
   "execution_count": 7,
   "metadata": {},
   "outputs": [],
   "source": [
    "df_model_output['ALLOCATION_TEST'] = [True if df_model_output['MODEL_RESULT_ARRAY'][x] <= df_model_output['LOT_AVAILABILITY_KG'][x] else False for x in range(len(df_model_output['LOT_AVAILABILITY_KG']))]"
   ]
  },
  {
   "cell_type": "code",
   "execution_count": 8,
   "metadata": {},
   "outputs": [],
   "source": [
    "df_model_recipe_output = pd.DataFrame()\n",
    "\n",
    "df_model_recipe_output['AROMA'] = [abs(float(df_recipe['AROMA']) - (sum(np.array(df_available_lots['AROMA'])*model_output.x))/sum(model_output.x))]\n",
    "\n",
    "df_model_recipe_output['FLAVOR'] = [abs(float(df_recipe['FLAVOR']) - (sum(np.array(df_available_lots['FLAVOR'])*model_output.x))/sum(model_output.x))]\n",
    "\n",
    "df_model_recipe_output['AFTERTASTE'] = [abs(float(df_recipe['AFTERTASTE']) - (sum(np.array(df_available_lots['AFTERTASTE'])*model_output.x))/sum(model_output.x))]\n",
    "\n",
    "df_model_recipe_output['ACIDITY'] = [abs(float(df_recipe['ACIDITY']) - (sum(np.array(df_available_lots['ACIDITY'])*model_output.x))/sum(model_output.x))]\n",
    "\n",
    "df_model_recipe_output['BODY'] = [abs(float(df_recipe['BODY']) - (sum(np.array(df_available_lots['BODY'])*model_output.x))/sum(model_output.x))]\n",
    "\n",
    "df_model_recipe_output['BALANCE'] = [abs(float(df_recipe['BALANCE']) - (sum(np.array(df_available_lots['BALANCE'])*model_output.x))/sum(model_output.x))]\n",
    "\n",
    "df_model_recipe_output['MOISTURE'] = [abs(float(df_recipe['MOISTURE']) - (sum(np.array(df_available_lots['MOISTURE'])*model_output.x))/sum(model_output.x))]"
   ]
  },
  {
   "cell_type": "code",
   "execution_count": 9,
   "metadata": {},
   "outputs": [
    {
     "output_type": "execute_result",
     "data": {
      "text/plain": [
       "      AROMA   FLAVOR  AFTERTASTE   ACIDITY     BODY   BALANCE  MOISTURE\n",
       "0  0.008863  0.27054    0.119607  0.164822  0.31168  0.036844      0.01"
      ],
      "text/html": "<div>\n<style scoped>\n    .dataframe tbody tr th:only-of-type {\n        vertical-align: middle;\n    }\n\n    .dataframe tbody tr th {\n        vertical-align: top;\n    }\n\n    .dataframe thead th {\n        text-align: right;\n    }\n</style>\n<table border=\"1\" class=\"dataframe\">\n  <thead>\n    <tr style=\"text-align: right;\">\n      <th></th>\n      <th>AROMA</th>\n      <th>FLAVOR</th>\n      <th>AFTERTASTE</th>\n      <th>ACIDITY</th>\n      <th>BODY</th>\n      <th>BALANCE</th>\n      <th>MOISTURE</th>\n    </tr>\n  </thead>\n  <tbody>\n    <tr>\n      <th>0</th>\n      <td>0.008863</td>\n      <td>0.27054</td>\n      <td>0.119607</td>\n      <td>0.164822</td>\n      <td>0.31168</td>\n      <td>0.036844</td>\n      <td>0.01</td>\n    </tr>\n  </tbody>\n</table>\n</div>"
     },
     "metadata": {},
     "execution_count": 9
    }
   ],
   "source": [
    "df_model_recipe_output"
   ]
  },
  {
   "cell_type": "code",
   "execution_count": 10,
   "metadata": {},
   "outputs": [
    {
     "output_type": "execute_result",
     "data": {
      "text/plain": [
       "   AROMA  FLAVOR  AFTERTASTE  ACIDITY  BODY  BALANCE  MOISTURE\n",
       "0   7.67    7.42        7.33     7.83   7.5      7.5      0.12"
      ],
      "text/html": "<div>\n<style scoped>\n    .dataframe tbody tr th:only-of-type {\n        vertical-align: middle;\n    }\n\n    .dataframe tbody tr th {\n        vertical-align: top;\n    }\n\n    .dataframe thead th {\n        text-align: right;\n    }\n</style>\n<table border=\"1\" class=\"dataframe\">\n  <thead>\n    <tr style=\"text-align: right;\">\n      <th></th>\n      <th>AROMA</th>\n      <th>FLAVOR</th>\n      <th>AFTERTASTE</th>\n      <th>ACIDITY</th>\n      <th>BODY</th>\n      <th>BALANCE</th>\n      <th>MOISTURE</th>\n    </tr>\n  </thead>\n  <tbody>\n    <tr>\n      <th>0</th>\n      <td>7.67</td>\n      <td>7.42</td>\n      <td>7.33</td>\n      <td>7.83</td>\n      <td>7.5</td>\n      <td>7.5</td>\n      <td>0.12</td>\n    </tr>\n  </tbody>\n</table>\n</div>"
     },
     "metadata": {},
     "execution_count": 10
    }
   ],
   "source": [
    "df_recipe[df_model_recipe_output.columns]"
   ]
  },
  {
   "cell_type": "code",
   "execution_count": 11,
   "metadata": {},
   "outputs": [
    {
     "output_type": "execute_result",
     "data": {
      "text/plain": [
       "      AROMA    FLAVOR  AFTERTASTE   ACIDITY      BODY   BALANCE  MOISTURE\n",
       "0  0.115551  3.646097     1.63174  2.105002  4.155736  0.491254  8.333333"
      ],
      "text/html": "<div>\n<style scoped>\n    .dataframe tbody tr th:only-of-type {\n        vertical-align: middle;\n    }\n\n    .dataframe tbody tr th {\n        vertical-align: top;\n    }\n\n    .dataframe thead th {\n        text-align: right;\n    }\n</style>\n<table border=\"1\" class=\"dataframe\">\n  <thead>\n    <tr style=\"text-align: right;\">\n      <th></th>\n      <th>AROMA</th>\n      <th>FLAVOR</th>\n      <th>AFTERTASTE</th>\n      <th>ACIDITY</th>\n      <th>BODY</th>\n      <th>BALANCE</th>\n      <th>MOISTURE</th>\n    </tr>\n  </thead>\n  <tbody>\n    <tr>\n      <th>0</th>\n      <td>0.115551</td>\n      <td>3.646097</td>\n      <td>1.63174</td>\n      <td>2.105002</td>\n      <td>4.155736</td>\n      <td>0.491254</td>\n      <td>8.333333</td>\n    </tr>\n  </tbody>\n</table>\n</div>"
     },
     "metadata": {},
     "execution_count": 11
    }
   ],
   "source": [
    "100*df_model_recipe_output/df_recipe[df_model_recipe_output.columns]"
   ]
  }
 ]
}