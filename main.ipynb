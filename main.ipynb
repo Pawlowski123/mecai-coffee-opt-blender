{
 "metadata": {
  "language_info": {
   "codemirror_mode": {
    "name": "ipython",
    "version": 3
   },
   "file_extension": ".py",
   "mimetype": "text/x-python",
   "name": "python",
   "nbconvert_exporter": "python",
   "pygments_lexer": "ipython3",
   "version": "3.7.6-final"
  },
  "orig_nbformat": 2,
  "kernelspec": {
   "name": "python3",
   "display_name": "Python 3.7.6 64-bit (conda)",
   "metadata": {
    "interpreter": {
     "hash": "80629b01526bf2541e72cdde0acf25d4762fe6e60ba82d2e07af90ce7c2a0375"
    }
   }
  }
 },
 "nbformat": 4,
 "nbformat_minor": 2,
 "cells": [
  {
   "cell_type": "code",
   "execution_count": 1,
   "metadata": {},
   "outputs": [],
   "source": [
    "import pandas as pd\n",
    "from pandas_profiling import ProfileReport\n",
    "import numpy as np\n",
    "import os\n",
    "import logging"
   ]
  },
  {
   "cell_type": "code",
   "execution_count": 2,
   "metadata": {},
   "outputs": [
    {
     "output_type": "execute_result",
     "data": {
      "text/plain": [
       "'C:\\\\Users\\\\BC966HL\\\\OneDrive - EY\\\\4. Mestrado\\\\Dev'"
      ]
     },
     "metadata": {},
     "execution_count": 2
    }
   ],
   "source": [
    "#os.chdir('..')\n",
    "os.chdir('C:/Users/BC966HL/OneDrive - EY/4. Mestrado/Dev/')\n",
    "os.getcwd()"
   ]
  },
  {
   "cell_type": "code",
   "execution_count": 3,
   "metadata": {},
   "outputs": [],
   "source": [
    "from Coding.etl.data_normalization import data_norm\n",
    "from Coding.etl.input_parameters import (recipe_def, create_cost_column, input_lots, target_volume, model_files)\n",
    "from Coding.model.minimize import (model_input_read, constraints_bounds, cost_obj_f, minimize_round)"
   ]
  },
  {
   "cell_type": "code",
   "execution_count": 4,
   "metadata": {},
   "outputs": [
    {
     "output_type": "stream",
     "name": "stderr",
     "text": [
      "WARNING:root:C:\\Users\\BC966HL\\OneDrive - EY\\4. Mestrado\\Dev\n",
      "WARNING:root:CSV File read successfully\n",
      "\n",
      "WARNING:root:.\n",
      "WARNING:root:C:\\Users\\BC966HL\\OneDrive - EY\\4. Mestrado\\Dev\n",
      "WARNING:root:.\n",
      "WARNING:root:Cleaned CSV file exported to path successfully\n",
      "WARNING:root:C:\\Users\\BC966HL\\OneDrive - EY\\4. Mestrado\\Dev\n",
      "WARNING:root:File read successfully\n",
      "WARNING:root:.\n",
      "WARNING:root:Recipe dataframe and df_norm with recipe row removed created successfully\n",
      "WARNING:root:Random cost column created with range: 5 and 50\n",
      "WARNING:root:.\n",
      "WARNING:root:Datasets with 10 lots metadata and df_norm_cost removing input lot successfully created\n",
      "WARNING:root:Dataset with Broken volume set as False, low_perc set as 0.2 and high_perc set as 0.8 was successfully created\n",
      "WARNING:root:.\n",
      "WARNING:root:.\n",
      "WARNING:root:.\n",
      "WARNING:root:input_recipe.csv was successfully exported to Datasets/model/\n",
      "WARNING:root:input_lots_available.csv was successfully exported to Datasets/model/\n"
     ]
    }
   ],
   "source": [
    "# Reading CQI CSV file as input, normalizing data and creating cleaned_cqi_file.csv with no-NaN rows and consistent coffee sample parameters\n",
    "data_norm()\n",
    "\n",
    "# recipe_def function to read the cleaned_cqi_file.csv and extract a random row to be used as target for the model. It will return a single row dataframe with unusable LOT_AVAILABILITY_KG field and the normalized dataframe with the selected row removed\n",
    "df_recipe, df_norm = recipe_def()\n",
    "\n",
    "# create_cost_column gets the normalized dataframe without the recipe row and create a random cost per kg in BRL to the lot on the row, the model will seek to minimize this final cost attending to the other parameters\n",
    "df_norm_cost = create_cost_column(df_norm)\n",
    "\n",
    "# input_lots will get the normalized dataframe without the recipe row and with the cost column and extracts from the n available rows a lot_limit (default = 10) sized dataframe which will be used as available lots to the model work on\n",
    "df_lots_available = input_lots(df_norm_cost, return_df_norm_wout_lots = False, lot_limit = 10)\n",
    "\n",
    "# df_recipe_volume simulate the batch volume\n",
    "# if simulate_broken_volume is set to True, it will create a volume higher than the available lots can provide together, reaching from the volume sum to broken_perc*volume sum, the broken_perc is set to 1.5 as default\n",
    "# if is set to False, will get from the lots available volume sum * low_perc to volume sum * high perc, which are set as default to 0.2 and 0.8 respectively\n",
    "df_recipe_volume = target_volume(df_recipe, df_lots_available, simulate_broken_volume = False)\n",
    "\n",
    "# model_files export the recipe and available lots datasets to /Datasets/model as input_recipe.csv and input_lots_available.csv with ';' as CSV separator\n",
    "model_files(df_recipe_volume, df_lots_available)"
   ]
  },
  {
   "cell_type": "code",
   "execution_count": 7,
   "metadata": {},
   "outputs": [
    {
     "output_type": "stream",
     "name": "stderr",
     "text": [
      "WARNING:root:CSV Files read successfully\n",
      "\n",
      "WARNING:root:.\n",
      "WARNING:root:Aroma constraint created successfully\n",
      "\n",
      "WARNING:root:Flavor constraint created successfully\n",
      "\n",
      "WARNING:root:Aftertaste constraint created successfully\n",
      "\n",
      "WARNING:root:Acidity constraint created successfully\n",
      "\n",
      "WARNING:root:Body constraint created successfully\n",
      "\n",
      "WARNING:root:Balance constraint created successfully\n",
      "\n",
      "WARNING:root:Moisture constraint created successfully\n",
      "\n",
      "WARNING:root:Recipe volume constraint created successfully\n",
      "\n",
      "('Optimization terminated successfully.', 0.9500000000012025, 2122903.382366432)\n"
     ]
    }
   ],
   "source": [
    "df_recipe, df_available_lots = model_input_read()\n",
    "\n",
    "constraints, bnd = constraints_bounds(df_recipe, df_available_lots, ub = 1)\n",
    "\n",
    "print(minimize_round(df_recipe, df_available_lots, constraints, bnd))"
   ]
  }
 ]
}